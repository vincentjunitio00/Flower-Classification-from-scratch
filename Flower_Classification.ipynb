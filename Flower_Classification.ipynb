{
  "nbformat": 4,
  "nbformat_minor": 0,
  "metadata": {
    "colab": {
      "name": "Flower Classification",
      "provenance": [],
      "collapsed_sections": [],
      "include_colab_link": true
    },
    "kernelspec": {
      "name": "python3",
      "display_name": "Python 3"
    },
    "language_info": {
      "name": "python"
    }
  },
  "cells": [
    {
      "cell_type": "markdown",
      "metadata": {
        "id": "view-in-github",
        "colab_type": "text"
      },
      "source": [
        "<a href=\"https://colab.research.google.com/github/vincentjunitio00/Flower-Classification-from-scratch/blob/main/Flower_Classification.ipynb\" target=\"_parent\"><img src=\"https://colab.research.google.com/assets/colab-badge.svg\" alt=\"Open In Colab\"/></a>"
      ]
    },
    {
      "cell_type": "code",
      "metadata": {
        "colab": {
          "base_uri": "https://localhost:8080/"
        },
        "id": "rjq_V9beqN2S",
        "outputId": "cdc46d6d-65a2-4053-d59d-5e60f2902e4f"
      },
      "source": [
        "!git clone \"https://github.com/vincentjunitio00/Flower-Classification-from-scratch\""
      ],
      "execution_count": 1,
      "outputs": [
        {
          "output_type": "stream",
          "text": [
            "Cloning into 'Flower-Classification-from-scratch'...\n",
            "remote: Enumerating objects: 2576, done.\u001b[K\n",
            "remote: Counting objects: 100% (17/17), done.\u001b[K\n",
            "remote: Compressing objects: 100% (16/16), done.\u001b[K\n",
            "remote: Total 2576 (delta 0), reused 17 (delta 0), pack-reused 2559\u001b[K\n",
            "Receiving objects: 100% (2576/2576), 132.90 MiB | 41.39 MiB/s, done.\n"
          ],
          "name": "stdout"
        }
      ]
    },
    {
      "cell_type": "code",
      "metadata": {
        "id": "twj4-XCcKAuy"
      },
      "source": [
        "import cv2\n",
        "import matplotlib.pyplot as plt\n",
        "import numpy as np\n",
        "from google.colab.patches import cv2_imshow\n",
        "import os\n",
        "from sklearn.preprocessing import OneHotEncoder"
      ],
      "execution_count": 2,
      "outputs": []
    },
    {
      "cell_type": "code",
      "metadata": {
        "id": "69P1y6iQqPmR"
      },
      "source": [
        "home = '/content/Flower-Classification-from-scratch/'\n",
        "\n",
        "training_path = os.path.join(home, 'training/')\n",
        "testing_path = os.path.join(home, 'testing/')\n",
        "\n",
        "labels = os.listdir(training_path)"
      ],
      "execution_count": 3,
      "outputs": []
    },
    {
      "cell_type": "code",
      "metadata": {
        "id": "ULx4_g0s31Ps"
      },
      "source": [
        "def create_processed_folder(labels):\n",
        "  content = '/content/'\n",
        "  processed_path = os.path.join(content, 'processed/')\n",
        "  os.mkdir(processed_path)\n",
        "\n",
        "  processed_training_path = os.path.join(processed_path, 'training/')\n",
        "  os.mkdir(processed_training_path)\n",
        "\n",
        "  processed_testing_path = os.path.join(processed_path, 'testing/')\n",
        "  os.mkdir(processed_testing_path)\n",
        "\n",
        "  path = {}\n",
        "  \n",
        "  for label in labels:\n",
        "    training_name = str(label)+'_processed_training_path'\n",
        "    training_name_path = os.path.join(processed_training_path, str(label)+'/')\n",
        "    os.mkdir(training_name_path)\n",
        "\n",
        "    testing_name = str(label)+'_processed_testing_path'\n",
        "    testing_name_path = os.path.join(processed_testing_path, str(label)+'/')\n",
        "    os.mkdir(testing_name_path)\n",
        "\n",
        "    path[training_name] = training_name_path\n",
        "    path[testing_name] = testing_name_path\n",
        "\n",
        "  path[\"training_path\"] = processed_training_path\n",
        "  path[\"testing_path\"] = processed_testing_path\n",
        "\n",
        "  print(\"Warning! You can only run this function once in the same runtime!\")\n",
        "  return path"
      ],
      "execution_count": 5,
      "outputs": []
    },
    {
      "cell_type": "code",
      "metadata": {
        "colab": {
          "base_uri": "https://localhost:8080/"
        },
        "id": "QN5_LWQIJ66x",
        "outputId": "cf9342fe-25c2-4e12-efd3-0d7aee076702"
      },
      "source": [
        "processed_path = create_processed_folder(labels)"
      ],
      "execution_count": 6,
      "outputs": [
        {
          "output_type": "stream",
          "text": [
            "Warning! You can only run this function once in the same runtime!\n"
          ],
          "name": "stdout"
        }
      ]
    },
    {
      "cell_type": "code",
      "metadata": {
        "colab": {
          "base_uri": "https://localhost:8080/"
        },
        "id": "LwpsAIVR9QAm",
        "outputId": "d40b9627-78e4-49ac-f676-9c721936f102"
      },
      "source": [
        "processed_path"
      ],
      "execution_count": 7,
      "outputs": [
        {
          "output_type": "execute_result",
          "data": {
            "text/plain": [
              "{'daisy_processed_testing_path': '/content/processed/testing/daisy/',\n",
              " 'daisy_processed_training_path': '/content/processed/training/daisy/',\n",
              " 'dandelion_processed_testing_path': '/content/processed/testing/dandelion/',\n",
              " 'dandelion_processed_training_path': '/content/processed/training/dandelion/',\n",
              " 'sunflower_processed_testing_path': '/content/processed/testing/sunflower/',\n",
              " 'sunflower_processed_training_path': '/content/processed/training/sunflower/',\n",
              " 'testing_path': '/content/processed/testing/',\n",
              " 'training_path': '/content/processed/training/'}"
            ]
          },
          "metadata": {
            "tags": []
          },
          "execution_count": 7
        }
      ]
    },
    {
      "cell_type": "code",
      "metadata": {
        "id": "qfIgfisRy-Np"
      },
      "source": [
        "def preprocess_images(set_name, set_path, processed_path):\n",
        "  X_set = []\n",
        "  y_set = []\n",
        "\n",
        "  labels = os.listdir(set_path)\n",
        "  for label in labels:\n",
        "    directory_now = os.path.join(set_path, str(label)+'/')\n",
        "    files = os.listdir(directory_now)\n",
        "\n",
        "    pointer = 1\n",
        "    for file in files:\n",
        "      file_path = os.path.join(directory_now, file)\n",
        "      img = cv2.imread(file_path)\n",
        "      img_gray = cv2.cvtColor(img, cv2.COLOR_BGR2GRAY)\n",
        "      img_resized = cv2.resize(img_gray, (320, 240))\n",
        "      img_final = img_resized.astype(np.float64)\n",
        "\n",
        "      img_numpy = img_final.flatten() / 255.\n",
        "      X_set.append(img_numpy)\n",
        "      y_set.append([label])\n",
        "\n",
        "      file_name = str(label)+\"_processed_\"+str(pointer)+'.jpg'\n",
        "      file_name_path = os.path.join(processed_path[str(label)+\"_processed_\"+str(set_name)+\"_path\"],file_name)\n",
        "      cv2.imwrite(file_name_path, img_final)\n",
        "      pointer += 1\n",
        "  \n",
        "  X_set = np.array(X_set)\n",
        "\n",
        "  ohe = OneHotEncoder()\n",
        "  y_set = ohe.fit_transform(y_set).toarray()\n",
        "  \n",
        "  return X_set, y_set"
      ],
      "execution_count": 8,
      "outputs": []
    },
    {
      "cell_type": "code",
      "metadata": {
        "id": "nlwyQtBSJs4M"
      },
      "source": [
        "X_train, y_train = preprocess_images('training', training_path, processed_path)"
      ],
      "execution_count": 9,
      "outputs": []
    },
    {
      "cell_type": "code",
      "metadata": {
        "id": "rO0oAXSkGpy7"
      },
      "source": [
        "X_test, y_test = preprocess_images('testing', testing_path, processed_path)"
      ],
      "execution_count": 10,
      "outputs": []
    },
    {
      "cell_type": "code",
      "metadata": {
        "id": "QSSm3ohqxtz6",
        "colab": {
          "base_uri": "https://localhost:8080/",
          "height": 287
        },
        "outputId": "3f0e18bd-4e8d-4e18-9042-8b009e4f060c"
      },
      "source": [
        "plt.imshow(X_test[0].reshape((240, 320)), cmap='gray')"
      ],
      "execution_count": 11,
      "outputs": [
        {
          "output_type": "execute_result",
          "data": {
            "text/plain": [
              "<matplotlib.image.AxesImage at 0x7f739739fb50>"
            ]
          },
          "metadata": {
            "tags": []
          },
          "execution_count": 11
        },
        {
          "output_type": "display_data",
          "data": {
            "image/png": "[encoded data removed]",
            "text/plain": [
              "<Figure size 432x288 with 1 Axes>"
            ]
          },
          "metadata": {
            "tags": [],
            "needs_background": "light"
          }
        }
      ]
    },
    {
      "cell_type": "code",
      "metadata": {
        "id": "4PRnJ4aQTKt-"
      },
      "source": [
        "np.random.seed(0)"
      ],
      "execution_count": 68,
      "outputs": []
    },
    {
      "cell_type": "code",
      "metadata": {
        "id": "4OkxCYB8JL5-"
      },
      "source": [
        "def initialize_parameters(input_neuron, hidden_neuron, output_neuron):\n",
        "  cache = {}\n",
        "  # W1 = np.zeros((input_neuron, hidden_neuron)) + 0.5\n",
        "  W1 = np.random.randn(input_neuron, hidden_neuron) * 0.001\n",
        "  b1 = np.zeros((hidden_neuron, )) + 0.5\n",
        "  W2 = np.random.randn(hidden_neuron, output_neuron) * 0.001\n",
        "  b2 = np.zeros((output_neuron, )) + 0.5\n",
        "\n",
        "  cache[\"W1\"] = W1\n",
        "  cache[\"b1\"] = b1\n",
        "  cache[\"W2\"] = W2\n",
        "  cache[\"b2\"] = b2\n",
        "\n",
        "  return cache"
      ],
      "execution_count": 69,
      "outputs": []
    },
    {
      "cell_type": "code",
      "metadata": {
        "id": "q8XUtUs4JOnT"
      },
      "source": [
        "def forward_propagation(cache, X, predict=False):\n",
        "  f1 = np.dot(cache[\"W1\"].T, X) + cache[\"b1\"]\n",
        "  g1 = sigmoid(f1)\n",
        "\n",
        "  f2 = np.dot(cache[\"W2\"].T, g1) + cache[\"b2\"]\n",
        "  g2 = sigmoid(f2)\n",
        "\n",
        "  if predict==False:\n",
        "    cache[\"f1\"] = f1\n",
        "    cache[\"g1\"] = g1\n",
        "    cache[\"f2\"] = f2\n",
        "    cache[\"g2\"] = g2\n",
        "    return cache\n",
        "  else:\n",
        "    return g2"
      ],
      "execution_count": 70,
      "outputs": []
    },
    {
      "cell_type": "code",
      "metadata": {
        "id": "6QFOxixNJPuG"
      },
      "source": [
        "# def crossentropy(y, g):\n",
        "#   entropy = 0\n",
        "#   n = g.shape[0]\n",
        "\n",
        "#   for row in range(n):\n",
        "#       if y[row] == 1:\n",
        "#         entropy += y[row] * (np.log2(g[row]))\n",
        "#       else:\n",
        "#         entropy += (1 - y[row]) * (np.log2((1-g[row])))\n",
        "#   crossentropy = -1/n * entropy\n",
        "#   return crossentropy"
      ],
      "execution_count": 71,
      "outputs": []
    },
    {
      "cell_type": "code",
      "metadata": {
        "id": "xMySma1YrORq"
      },
      "source": [
        "def squared_error(y, g):\n",
        "  sum = np.mean((y - g)**2)\n",
        "  return sum"
      ],
      "execution_count": 72,
      "outputs": []
    },
    {
      "cell_type": "code",
      "metadata": {
        "id": "0eZ6CWruJRii"
      },
      "source": [
        "def relu(h):\n",
        "  return np.maximum(0, h)"
      ],
      "execution_count": 73,
      "outputs": []
    },
    {
      "cell_type": "code",
      "metadata": {
        "id": "PrTsFoNJJTSP"
      },
      "source": [
        "# def softmax(h):\n",
        "#   h /= 1000\n",
        "#   soft = np.exp(h) / np.sum(np.exp(h))\n",
        "#   soft[np.isnan(soft)] = 0\n",
        "#   return soft"
      ],
      "execution_count": 74,
      "outputs": []
    },
    {
      "cell_type": "code",
      "metadata": {
        "id": "Qo22PiHkJUL7"
      },
      "source": [
        "def one_hot_encoding(g):\n",
        "  y = np.zeros(g.size)\n",
        "  y[np.argmax(g)] = 1\n",
        "  return y"
      ],
      "execution_count": 75,
      "outputs": []
    },
    {
      "cell_type": "code",
      "metadata": {
        "id": "rOfZ2RGGxc76"
      },
      "source": [
        "def reverse_squared_error(y, g):\n",
        "  reverse = 2 ** np.sum(y - g)\n",
        "  return reverse"
      ],
      "execution_count": 76,
      "outputs": []
    },
    {
      "cell_type": "code",
      "metadata": {
        "id": "uEpj-iKvyElg"
      },
      "source": [
        "def sigmoid(g):\n",
        "  return 1 / (1 + np.exp(-g))"
      ],
      "execution_count": 77,
      "outputs": []
    },
    {
      "cell_type": "code",
      "metadata": {
        "id": "as7yLoclJVLT"
      },
      "source": [
        "# def reverse_softmax(f2):\n",
        "#   f2 /= 1000\n",
        "#   d = []\n",
        "#   for i in range(len(f2)):\n",
        "#     derivative = np.exp(f2[i]) * np.sum([np.exp(f2[j]) for j in range(len(f2)) if j != i])\n",
        "#     d.append(derivative)\n",
        "#   d = np.array(d)\n",
        "#   d[np.isinf(d)] = 1\n",
        "#   d[np.isnan(d)] = 0\n",
        "#   return d"
      ],
      "execution_count": 78,
      "outputs": []
    },
    {
      "cell_type": "code",
      "metadata": {
        "id": "W3D8hjf8x7mh"
      },
      "source": [
        "def reverse_sigmoid(f):\n",
        "  return sigmoid(f) * (1-sigmoid(f))"
      ],
      "execution_count": 79,
      "outputs": []
    },
    {
      "cell_type": "code",
      "metadata": {
        "id": "iAAgb24UJXuW"
      },
      "source": [
        "def reverse_relu(f1):\n",
        "  # Reverse relu\n",
        "  d1 = np.where(f1 > 0, 1, 0)\n",
        "  return d1"
      ],
      "execution_count": 80,
      "outputs": []
    },
    {
      "cell_type": "code",
      "metadata": {
        "id": "pk8tcsh-xupO"
      },
      "source": [
        "def backward_propagation(cache, X, y):\n",
        "  dW2 = np.zeros(cache[\"W2\"].shape)\n",
        "  db2 = np.zeros(cache[\"b2\"].shape)\n",
        "\n",
        "  dEOout = reverse_squared_error(y, cache[\"g2\"])\n",
        "\n",
        "  d = reverse_sigmoid(cache[\"f2\"])\n",
        "  dW2 += dEOout * d * cache[\"f2\"]\n",
        "  db2 += dEOout * d\n",
        "\n",
        "  dW1 = np.zeros(cache[\"W1\"].shape)\n",
        "  db1 = np.zeros(cache[\"b1\"].shape)\n",
        "\n",
        "  d1 = reverse_relu(cache[\"f1\"])\n",
        "  dEHidden = np.sum(dEOout * d * cache[\"W2\"], axis=1)\n",
        "  dW1 += dEHidden * d1 * X.reshape(-1, 1)\n",
        "  db1 += dEHidden * d1\n",
        "\n",
        "  cache[\"dW1\"] = dW1\n",
        "  cache[\"db1\"] = db1\n",
        "  cache[\"dW2\"] = dW2\n",
        "  cache[\"db2\"] = db2\n",
        "  return cache"
      ],
      "execution_count": 81,
      "outputs": []
    },
    {
      "cell_type": "code",
      "metadata": {
        "id": "LVHN_bVmJYv6"
      },
      "source": [
        "# def backward_propagation(cache, X, y, eps=1e-3):\n",
        "#   dW2 = np.zeros(cache[\"W2\"].shape)\n",
        "#   db2 = np.zeros(cache[\"b2\"].shape)\n",
        "\n",
        "#   dEOout = -1 * y * (1/(cache[\"g2\"]+eps)) + (1-y)*(1/(1-(cache[\"g2\"])+eps))\n",
        "#   d = reverse_softmax(cache[\"f2\"])\n",
        "#   dW2 += dEOout * d * cache[\"f2\"]\n",
        "#   db2 += dEOout * d\n",
        "\n",
        "#   dW1 = np.zeros(cache[\"W1\"].shape)\n",
        "#   db1 = np.zeros(cache[\"b1\"].shape)\n",
        "\n",
        "#   d1 = reverse_relu(cache[\"f1\"])\n",
        "#   dEHidden = np.sum(dEOout * d * cache[\"W2\"], axis=1)\n",
        "\n",
        "#   dW1 += dEHidden * d1 * X.reshape(-1, 1)\n",
        "#   db1 += dEHidden * d1\n",
        "\n",
        "#   cache[\"dW1\"] = dW1\n",
        "#   cache[\"db1\"] = db1\n",
        "#   cache[\"dW2\"] = dW2\n",
        "#   cache[\"db2\"] = db2\n",
        "#   return cache"
      ],
      "execution_count": 82,
      "outputs": []
    },
    {
      "cell_type": "code",
      "metadata": {
        "id": "RaeyfRpPJZm1"
      },
      "source": [
        "def update_weights(cache, learning_rate):\n",
        "  cache[\"W1\"] = cache[\"W1\"] - learning_rate * cache[\"dW1\"]\n",
        "  cache[\"b1\"] = cache[\"b1\"] - learning_rate * cache[\"db1\"]\n",
        "  cache[\"W2\"] = cache[\"W2\"] - learning_rate * cache[\"dW2\"]\n",
        "  cache[\"b2\"] = cache[\"b2\"] - learning_rate * cache[\"db2\"]\n",
        "  return cache"
      ],
      "execution_count": 83,
      "outputs": []
    },
    {
      "cell_type": "code",
      "metadata": {
        "id": "q_6lqfraJbju"
      },
      "source": [
        "def accuracy(y, y_pred):\n",
        "  return (y == y_pred).all()"
      ],
      "execution_count": 84,
      "outputs": []
    },
    {
      "cell_type": "code",
      "metadata": {
        "colab": {
          "base_uri": "https://localhost:8080/"
        },
        "id": "z6Z-NPNty1Jx",
        "outputId": "723da057-53b3-4955-d083-c7689c25014f"
      },
      "source": [
        "# np.seterr(divide='ignore', invalid='ignore')\n",
        "\n",
        "def train(input_neuron, hidden_neuron, output_neuron, X_train, y_train, learning_rate=0.03, epochs=10):\n",
        "  cache = initialize_parameters(input_neuron, hidden_neuron, output_neuron)\n",
        "  acc_per_epoch = []\n",
        "  cost_per_epoch = []\n",
        "  for epoch in range(epochs):\n",
        "    cost_total = []\n",
        "    acc_total = []\n",
        "\n",
        "    print(\"Running epoch\", str(epoch + 1))\n",
        "\n",
        "    for i in range(0, len(X_train)):\n",
        "      cache = forward_propagation(cache, X_train[i])\n",
        "      cost = squared_error(y_train[i], cache[\"g2\"])\n",
        "      cache = backward_propagation(cache, X_train[i], y_train[i])\n",
        "      cache = update_weights(cache, learning_rate)\n",
        "\n",
        "      acc = accuracy(y_train[i], one_hot_encoding(cache[\"g2\"]))\n",
        "\n",
        "      acc_total.append(acc)\n",
        "      cost_total.append(cost)\n",
        "\n",
        "    acc_total = np.mean(acc_total)\n",
        "    cost_total = np.mean(cost_total)\n",
        "    acc_per_epoch.append(acc_total)\n",
        "    cost_per_epoch.append(cost_total)\n",
        "\n",
        "  cache[\"acc_per_epoch\"] = acc_per_epoch\n",
        "  cache[\"cost_per_epoch\"] = cost_per_epoch\n",
        "  \n",
        "  return cache\n",
        "\n",
        "cache = train(X_train.shape[1], 200, 3, X_train, y_train, epochs=10)"
      ],
      "execution_count": 85,
      "outputs": [
        {
          "output_type": "stream",
          "text": [
            "Running epoch 1\n",
            "Running epoch 2\n",
            "Running epoch 3\n",
            "Running epoch 4\n",
            "Running epoch 5\n",
            "Running epoch 6\n",
            "Running epoch 7\n",
            "Running epoch 8\n",
            "Running epoch 9\n",
            "Running epoch 10\n"
          ],
          "name": "stdout"
        }
      ]
    },
    {
      "cell_type": "code",
      "metadata": {
        "id": "2LVO2Ye9A7UN"
      },
      "source": [
        "cache"
      ],
      "execution_count": null,
      "outputs": []
    },
    {
      "cell_type": "code",
      "metadata": {
        "id": "J-hlQuNkYNqI",
        "colab": {
          "base_uri": "https://localhost:8080/",
          "height": 573
        },
        "outputId": "0327c93b-6da4-4fef-ef34-ec2e37bd826b"
      },
      "source": [
        "import matplotlib.pyplot as plt\n",
        "plt.title('Accuracy Plot')\n",
        "plt.plot(np.arange(len(cache[\"acc_per_epoch\"]))+1, cache[\"acc_per_epoch\"])\n",
        "plt.xlabel('Epochs')\n",
        "plt.ylabel('Accuracy')\n",
        "plt.show()\n",
        "\n",
        "plt.title('Loss Plot')\n",
        "plt.plot(np.arange(len(cache[\"cost_per_epoch\"]))+1, cache[\"cost_per_epoch\"])\n",
        "plt.xlabel('Epochs')\n",
        "plt.ylabel('Loss')\n",
        "plt.show()"
      ],
      "execution_count": 88,
      "outputs": [
        {
          "output_type": "display_data",
          "data": {
            "image/png": "[encoded data removed]",
            "text/plain": [
              "<Figure size 432x288 with 1 Axes>"
            ]
          },
          "metadata": {
            "tags": [],
            "needs_background": "light"
          }
        },
        {
          "output_type": "display_data",
          "data": {
            "image/png": "[encoded data removed]",
            "text/plain": [
              "<Figure size 432x288 with 1 Axes>"
            ]
          },
          "metadata": {
            "tags": [],
            "needs_background": "light"
          }
        }
      ]
    },
    {
      "cell_type": "code",
      "metadata": {
        "id": "a-kHue_93M7t"
      },
      "source": [
        "def predict(cache, X_test):\n",
        "  prediction = []\n",
        "  for X in X_test:\n",
        "    y = forward_propagation(cache, X, predict=True)\n",
        "    y_pred = one_hot_encoding(y)\n",
        "    prediction.append(y_pred)\n",
        "  return np.array(prediction)"
      ],
      "execution_count": 89,
      "outputs": []
    },
    {
      "cell_type": "code",
      "metadata": {
        "id": "UvayMzVsIgzv"
      },
      "source": [
        "prediction = predict(cache, X_test)"
      ],
      "execution_count": 90,
      "outputs": []
    },
    {
      "cell_type": "code",
      "metadata": {
        "id": "TDvUKX0aJ9p2",
        "colab": {
          "base_uri": "https://localhost:8080/"
        },
        "outputId": "a3336536-db70-42c3-80cb-0ae2920e26e5"
      },
      "source": [
        "count = []\n",
        "for y in range(len(prediction)):\n",
        "  count.append((prediction[y] == y_test[y]).all())\n",
        "  # count.append(accuracy(prediction[y], y_test[y]))\n",
        "\n",
        "np.mean(count)"
      ],
      "execution_count": 91,
      "outputs": [
        {
          "output_type": "execute_result",
          "data": {
            "text/plain": [
              "0.36666666666666664"
            ]
          },
          "metadata": {
            "tags": []
          },
          "execution_count": 91
        }
      ]
    },
    {
      "cell_type": "code",
      "metadata": {
        "id": "n7ifAX0R-CPe"
      },
      "source": [
        "prediction"
      ],
      "execution_count": null,
      "outputs": []
    },
    {
      "cell_type": "code",
      "metadata": {
        "colab": {
          "base_uri": "https://localhost:8080/"
        },
        "id": "02WMGL96S9Dk",
        "outputId": "d4029e9b-4304-4a1d-b8d3-2cc491de203a"
      },
      "source": [
        "cache = train(X_train.shape[1], 200, 3, X_train, y_train, learning_rate=0.8, epochs=50)"
      ],
      "execution_count": 93,
      "outputs": [
        {
          "output_type": "stream",
          "text": [
            "Running epoch 1\n",
            "Running epoch 2\n",
            "Running epoch 3\n",
            "Running epoch 4\n",
            "Running epoch 5\n",
            "Running epoch 6\n",
            "Running epoch 7\n",
            "Running epoch 8\n",
            "Running epoch 9\n",
            "Running epoch 10\n",
            "Running epoch 11\n",
            "Running epoch 12\n",
            "Running epoch 13\n",
            "Running epoch 14\n",
            "Running epoch 15\n",
            "Running epoch 16\n",
            "Running epoch 17\n",
            "Running epoch 18\n",
            "Running epoch 19\n",
            "Running epoch 20\n",
            "Running epoch 21\n",
            "Running epoch 22\n",
            "Running epoch 23\n",
            "Running epoch 24\n",
            "Running epoch 25\n",
            "Running epoch 26\n",
            "Running epoch 27\n",
            "Running epoch 28\n",
            "Running epoch 29\n",
            "Running epoch 30\n",
            "Running epoch 31\n",
            "Running epoch 32\n",
            "Running epoch 33\n",
            "Running epoch 34\n",
            "Running epoch 35\n",
            "Running epoch 36\n",
            "Running epoch 37\n",
            "Running epoch 38\n",
            "Running epoch 39\n",
            "Running epoch 40\n",
            "Running epoch 41\n",
            "Running epoch 42\n",
            "Running epoch 43\n",
            "Running epoch 44\n",
            "Running epoch 45\n",
            "Running epoch 46\n",
            "Running epoch 47\n",
            "Running epoch 48\n",
            "Running epoch 49\n",
            "Running epoch 50\n"
          ],
          "name": "stdout"
        }
      ]
    },
    {
      "cell_type": "code",
      "metadata": {
        "id": "PP-qawbxToao"
      },
      "source": [
        ""
      ],
      "execution_count": null,
      "outputs": []
    }
  ]
}