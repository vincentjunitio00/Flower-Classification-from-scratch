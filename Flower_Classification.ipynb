{
  "nbformat": 4,
  "nbformat_minor": 0,
  "metadata": {
    "colab": {
      "name": "Flower Classification",
      "provenance": [],
      "collapsed_sections": [],
      "include_colab_link": true
    },
    "kernelspec": {
      "name": "python3",
      "display_name": "Python 3"
    },
    "language_info": {
      "name": "python"
    }
  },
  "cells": [
    {
      "cell_type": "markdown",
      "metadata": {
        "id": "view-in-github",
        "colab_type": "text"
      },
      "source": [
        "<a href=\"https://colab.research.google.com/github/vincentjunitio00/Flower-Classification-from-scratch/blob/main/Flower_Classification.ipynb\" target=\"_parent\"><img src=\"https://colab.research.google.com/assets/colab-badge.svg\" alt=\"Open In Colab\"/></a>"
      ]
    },
    {
      "cell_type": "code",
      "metadata": {
        "colab": {
          "base_uri": "https://localhost:8080/"
        },
        "id": "rjq_V9beqN2S",
        "outputId": "8ce59a90-127d-4ec8-b99d-eb8ae0aa71b5"
      },
      "source": [
        "!git clone \"https://github.com/vincentjunitio00/Flower-Classification-from-scratch\""
      ],
      "execution_count": 1,
      "outputs": [
        {
          "output_type": "stream",
          "text": [
            "Cloning into 'Flower-Classification-from-scratch'...\n",
            "remote: Enumerating objects: 2579, done.\u001b[K\n",
            "remote: Counting objects: 100% (20/20), done.\u001b[K\n",
            "remote: Compressing objects: 100% (19/19), done.\u001b[K\n",
            "remote: Total 2579 (delta 0), reused 20 (delta 0), pack-reused 2559\u001b[K\n",
            "Receiving objects: 100% (2579/2579), 132.98 MiB | 32.42 MiB/s, done.\n"
          ],
          "name": "stdout"
        }
      ]
    },
    {
      "cell_type": "code",
      "metadata": {
        "id": "twj4-XCcKAuy"
      },
      "source": [
        "import cv2\n",
        "import matplotlib.pyplot as plt\n",
        "import numpy as np\n",
        "from google.colab.patches import cv2_imshow\n",
        "import os\n",
        "import shutil\n",
        "import random\n",
        "from sklearn.preprocessing import OneHotEncoder"
      ],
      "execution_count": 2,
      "outputs": []
    },
    {
      "cell_type": "code",
      "metadata": {
        "id": "69P1y6iQqPmR"
      },
      "source": [
        "home = '/content/Flower-Classification-from-scratch/'\n",
        "\n",
        "training_path = os.path.join(home, 'training/')\n",
        "testing_path = os.path.join(home, 'testing/')\n",
        "\n",
        "dataset = os.path.join(home,'flowers_full')\n",
        "testing_random = os.path.join(home,'testing_random')\n",
        "training_random = os.path.join(home,'training_random')\n",
        "\n",
        "try:\n",
        "  os.mkdir(testing_random)\n",
        "  os.mkdir(training_random)\n",
        "except:\n",
        "  shutil.rmtree(testing_random)\n",
        "  shutil.rmtree(training_random)\n",
        "  os.mkdir(testing_random)\n",
        "  os.mkdir(training_random)\n",
        "labels = os.listdir(dataset)"
      ],
      "execution_count": 3,
      "outputs": []
    },
    {
      "cell_type": "code",
      "metadata": {
        "id": "H9_2342-Ey0x"
      },
      "source": [
        "def split_data():  \n",
        "  '''\n",
        "  Function to split dataset into 80% training set and 20% test set\n",
        "  each dataset is chosen randomly\n",
        "\n",
        "  Parameters:\n",
        "    None\n",
        "  \n",
        "  Returns:\n",
        "    None\n",
        "\n",
        "  '''\n",
        "  for label in labels:\n",
        "    curr_dir = os.path.join(dataset,label)\n",
        "    dest_training_dir = os.path.join(training_random,label)\n",
        "    dest_testing_dir = os.path.join(testing_random,label)\n",
        "    try:\n",
        "      os.mkdir(dest_training_dir)\n",
        "      os.mkdir(dest_testing_dir)\n",
        "    except:\n",
        "      shutil.rmtree(dest_training_dir)\n",
        "      shutil.rmtree(dest_testing_dir)\n",
        "      os.mkdir(dest_training_dir)\n",
        "      os.mkdir(dest_testing_dir)\n",
        "\n",
        "    files = os.listdir(curr_dir)\n",
        "    rand_num_training_set = []\n",
        "    while len(rand_num_training_set) < 80:\n",
        "      rand_num = random.randint(0,len(files)-1)\n",
        "      if(rand_num not in rand_num_training_set):\n",
        "        curr_files = os.path.join(curr_dir,files[rand_num])\n",
        "        rand_num_training_set.append(rand_num)\n",
        "        shutil.copyfile(curr_files,dest_training_dir+'/'+files[rand_num])\n",
        "\n",
        "    rand_num_testing_set = []\n",
        "    while len(rand_num_testing_set) < 20:\n",
        "      rand_num = random.randint(0,len(files)-1)\n",
        "      if(rand_num not in rand_num_training_set):\n",
        "        rand_num_testing_set.append(rand_num)\n",
        "        curr_files = os.path.join(curr_dir,files[rand_num])\n",
        "\n",
        "        shutil.copyfile(curr_files,dest_testing_dir+'/'+files[rand_num])\n",
        "split_data()"
      ],
      "execution_count": 4,
      "outputs": []
    },
    {
      "cell_type": "code",
      "metadata": {
        "colab": {
          "base_uri": "https://localhost:8080/"
        },
        "id": "b6uA1mBLKGIJ",
        "outputId": "c3cba2fd-c813-4e6c-aaac-3bc031330f1e"
      },
      "source": [
        "len(os.listdir('/content/Flower-Classification-from-scratch/testing_random/daisy'))"
      ],
      "execution_count": 7,
      "outputs": [
        {
          "output_type": "execute_result",
          "data": {
            "text/plain": [
              "20"
            ]
          },
          "metadata": {
            "tags": []
          },
          "execution_count": 7
        }
      ]
    },
    {
      "cell_type": "code",
      "metadata": {
        "id": "ULx4_g0s31Ps"
      },
      "source": [
        "def create_processed_folder(labels):\n",
        "  '''\n",
        "  Function to create folder which contains dataset used for training\n",
        "  and testing\n",
        "\n",
        "  Parameters:\n",
        "    labels (list) : list of labels in dataset\n",
        "\n",
        "  Returns:\n",
        "    path (dict) : dictionary of processed directory path\n",
        "  '''\n",
        "  content = '/content/'\n",
        "  processed_path = os.path.join(content, 'processed/')\n",
        "  os.mkdir(processed_path)\n",
        "\n",
        "  processed_training_path = os.path.join(processed_path, 'training/')\n",
        "  os.mkdir(processed_training_path)\n",
        "\n",
        "  processed_testing_path = os.path.join(processed_path, 'testing/')\n",
        "  os.mkdir(processed_testing_path)\n",
        "\n",
        "  path = {}\n",
        "  \n",
        "  for label in labels:\n",
        "    training_name = str(label)+'_processed_training_path'\n",
        "    training_name_path = os.path.join(processed_training_path, str(label)+'/')\n",
        "    os.mkdir(training_name_path)\n",
        "\n",
        "    testing_name = str(label)+'_processed_testing_path'\n",
        "    testing_name_path = os.path.join(processed_testing_path, str(label)+'/')\n",
        "    os.mkdir(testing_name_path)\n",
        "\n",
        "    path[training_name] = training_name_path\n",
        "    path[testing_name] = testing_name_path\n",
        "\n",
        "  path[\"training_path\"] = processed_training_path\n",
        "  path[\"testing_path\"] = processed_testing_path\n",
        "\n",
        "  print(\"Warning! You can only run this function once in the same runtime!\")\n",
        "  return path"
      ],
      "execution_count": 8,
      "outputs": []
    },
    {
      "cell_type": "code",
      "metadata": {
        "colab": {
          "base_uri": "https://localhost:8080/"
        },
        "id": "QN5_LWQIJ66x",
        "outputId": "2de66404-9626-4c56-ee81-791d5001a1f5"
      },
      "source": [
        "processed_path = create_processed_folder(labels)"
      ],
      "execution_count": 9,
      "outputs": [
        {
          "output_type": "stream",
          "text": [
            "Warning! You can only run this function once in the same runtime!\n"
          ],
          "name": "stdout"
        }
      ]
    },
    {
      "cell_type": "code",
      "metadata": {
        "colab": {
          "base_uri": "https://localhost:8080/"
        },
        "id": "LwpsAIVR9QAm",
        "outputId": "1ed0773a-bcb7-4dd4-f310-ede35d2f6b80"
      },
      "source": [
        "processed_path"
      ],
      "execution_count": 10,
      "outputs": [
        {
          "output_type": "execute_result",
          "data": {
            "text/plain": [
              "{'daisy_processed_testing_path': '/content/processed/testing/daisy/',\n",
              " 'daisy_processed_training_path': '/content/processed/training/daisy/',\n",
              " 'dandelion_processed_testing_path': '/content/processed/testing/dandelion/',\n",
              " 'dandelion_processed_training_path': '/content/processed/training/dandelion/',\n",
              " 'sunflower_processed_testing_path': '/content/processed/testing/sunflower/',\n",
              " 'sunflower_processed_training_path': '/content/processed/training/sunflower/',\n",
              " 'testing_path': '/content/processed/testing/',\n",
              " 'training_path': '/content/processed/training/'}"
            ]
          },
          "metadata": {
            "tags": []
          },
          "execution_count": 10
        }
      ]
    },
    {
      "cell_type": "code",
      "metadata": {
        "id": "qfIgfisRy-Np"
      },
      "source": [
        "def preprocess_images(set_name, set_path, processed_path):\n",
        "\n",
        "  '''\n",
        "  Function to preprocess dataset\n",
        "  1. convert images to grayscale\n",
        "  2. create one hot encoding for each dataset based on its label\n",
        "  \n",
        "  Parameters:\n",
        "    set_name (string) : define what set this preprocess for, either training or testing\n",
        "    set_path (string) : define where to get the dataset\n",
        "    processed_path (string) : define where to put preprocessed images\n",
        "  \n",
        "  Returns:\n",
        "    X_set (list) : list of images (matrix 2 dimension representation)\n",
        "    y_set (list) : list of label of each image (one hot encoding representation)\n",
        "  '''\n",
        "  X_set = []\n",
        "  y_set = []\n",
        "\n",
        "  labels = os.listdir(set_path)\n",
        "  for label in labels:\n",
        "    directory_now = os.path.join(set_path, str(label)+'/')\n",
        "    files = os.listdir(directory_now)\n",
        "\n",
        "    pointer = 1\n",
        "    for file in files:\n",
        "      file_path = os.path.join(directory_now, file)\n",
        "      img = cv2.imread(file_path)\n",
        "      img_gray = cv2.cvtColor(img, cv2.COLOR_BGR2GRAY)\n",
        "      img_resized = cv2.resize(img_gray, (320, 240))\n",
        "      img_final = img_resized.astype(np.float64)\n",
        "\n",
        "      img_numpy = img_final.flatten() / 255.\n",
        "      X_set.append(img_numpy)\n",
        "      y_set.append([label])\n",
        "\n",
        "      file_name = str(label)+\"_processed_\"+str(pointer)+'.jpg'\n",
        "      file_name_path = os.path.join(processed_path[str(label)+\"_processed_\"+str(set_name)+\"_path\"],file_name)\n",
        "      cv2.imwrite(file_name_path, img_final)\n",
        "      pointer += 1\n",
        "  \n",
        "  X_set = np.array(X_set)\n",
        "\n",
        "  ohe = OneHotEncoder()\n",
        "  y_set = ohe.fit_transform(y_set).toarray()\n",
        "  \n",
        "  return X_set, y_set"
      ],
      "execution_count": 11,
      "outputs": []
    },
    {
      "cell_type": "code",
      "metadata": {
        "id": "nlwyQtBSJs4M"
      },
      "source": [
        "X_train, y_train = preprocess_images('training', training_random, processed_path)"
      ],
      "execution_count": 12,
      "outputs": []
    },
    {
      "cell_type": "code",
      "metadata": {
        "id": "rO0oAXSkGpy7"
      },
      "source": [
        "X_test, y_test = preprocess_images('testing', testing_random, processed_path)"
      ],
      "execution_count": 13,
      "outputs": []
    },
    {
      "cell_type": "code",
      "metadata": {
        "colab": {
          "base_uri": "https://localhost:8080/",
          "height": 269
        },
        "id": "V4Cw3qK6FYPe",
        "outputId": "578b228a-3eb6-477f-d494-7cc92659cf88"
      },
      "source": [
        "def visualize_images(X):\n",
        "  plt.imshow(X.reshape((240, 320)), cmap='gray')\n",
        "\n",
        "visualize_images(X_test[0])"
      ],
      "execution_count": 14,
      "outputs": [
        {
          "output_type": "display_data",
          "data": {
            "image/png": "[encoded data removed]",
            "text/plain": [
              "<Figure size 432x288 with 1 Axes>"
            ]
          },
          "metadata": {
            "tags": [],
            "needs_background": "light"
          }
        }
      ]
    },
    {
      "cell_type": "code",
      "metadata": {
        "id": "4PRnJ4aQTKt-"
      },
      "source": [
        "np.random.seed(0)"
      ],
      "execution_count": 15,
      "outputs": []
    },
    {
      "cell_type": "code",
      "metadata": {
        "id": "4OkxCYB8JL5-"
      },
      "source": [
        "def initialize_parameters(input_neuron, hidden_neuron, output_neuron):\n",
        "  '''\n",
        "  function to initialize parameters needed for Multi layer perceptron\n",
        "  {\n",
        "    W1 => weight from input to hidden,\n",
        "    b1 => bias from input to hidden,\n",
        "    W2 => weight from hidden to output,\n",
        "    b2 => bias from hidden to output\n",
        "  }\n",
        "  Parameters:\n",
        "    input_neuron (int) : number of input node\n",
        "    hidden_neuron (int) : number of hidden node\n",
        "    output_neuron (int) : number of output node\n",
        "  \n",
        "  Returns:\n",
        "    cache (dict) : dictionary of parameters\n",
        "  '''\n",
        "  cache = {}\n",
        "  # W1 = np.zeros((input_neuron, hidden_neuron)) + 0.5\n",
        "  W1 = np.random.randn(input_neuron, hidden_neuron) * 0.001\n",
        "  b1 = np.zeros((hidden_neuron, )) + 0.5\n",
        "  W2 = np.random.randn(hidden_neuron, output_neuron) * 0.001\n",
        "  b2 = np.zeros((output_neuron, )) + 0.5\n",
        "\n",
        "  cache[\"W1\"] = W1\n",
        "  cache[\"b1\"] = b1\n",
        "  cache[\"W2\"] = W2\n",
        "  cache[\"b2\"] = b2\n",
        "\n",
        "  return cache"
      ],
      "execution_count": 16,
      "outputs": []
    },
    {
      "cell_type": "code",
      "metadata": {
        "id": "TNuATHuQM96f"
      },
      "source": [
        "def relu(h):\n",
        "  return np.maximum(0, h)"
      ],
      "execution_count": 36,
      "outputs": []
    },
    {
      "cell_type": "code",
      "metadata": {
        "id": "Nt7B9_87M8Lz"
      },
      "source": [
        "def reverse_relu(f1):\n",
        "  # Reverse relu\n",
        "  d1 = np.where(f1 > 0, 1, 0)\n",
        "  return d1"
      ],
      "execution_count": 37,
      "outputs": []
    },
    {
      "cell_type": "code",
      "metadata": {
        "id": "q8XUtUs4JOnT"
      },
      "source": [
        "def forward_propagation(cache, X, predict=False):\n",
        "  '''\n",
        "  function for feed forward by matrix multiplication and adding bias\n",
        "\n",
        "  Parameters:\n",
        "    cache (dict) : dictionary of parameters,\n",
        "    X (list) : list of training data,\n",
        "    predict (bool) : define whether this function called for train or predict\n",
        "\n",
        "  Returns:\n",
        "    cache (dict) : dictionary of parameters,\n",
        "    g2 (list) : list of prediction\n",
        "  '''\n",
        "\n",
        "  f1 = np.dot(cache[\"W1\"].T, X) + cache[\"b1\"]\n",
        "  g1 = relu(f1)\n",
        "\n",
        "  f2 = np.dot(cache[\"W2\"].T, g1) + cache[\"b2\"]\n",
        "  g2 = sigmoid(f2)\n",
        "\n",
        "  if predict==False:\n",
        "    cache[\"f1\"] = f1\n",
        "    cache[\"g1\"] = g1\n",
        "    cache[\"f2\"] = f2\n",
        "    cache[\"g2\"] = g2\n",
        "    return cache\n",
        "  else:\n",
        "    return g2"
      ],
      "execution_count": 38,
      "outputs": []
    },
    {
      "cell_type": "code",
      "metadata": {
        "id": "6QFOxixNJPuG"
      },
      "source": [
        "# def crossentropy(y, g):\n",
        "#   entropy = 0\n",
        "#   n = g.shape[0]\n",
        "\n",
        "#   for row in range(n):\n",
        "#       if y[row] == 1:\n",
        "#         entropy += y[row] * (np.log2(g[row]))\n",
        "#       else:\n",
        "#         entropy += (1 - y[row]) * (np.log2((1-g[row])))\n",
        "#   crossentropy = -1/n * entropy\n",
        "#   return crossentropy"
      ],
      "execution_count": 18,
      "outputs": []
    },
    {
      "cell_type": "code",
      "metadata": {
        "id": "xMySma1YrORq"
      },
      "source": [
        "def squared_error(y, g):\n",
        "  '''\n",
        "  function to calculate loss function (square error)\n",
        "\n",
        "  Parameters:\n",
        "    y (list) : list of real label,\n",
        "    g (list) : list of predict label\n",
        "  \n",
        "  Returns:\n",
        "    sum (int) : error\n",
        "  '''\n",
        "  sum = np.mean((y - g)**2)\n",
        "  return sum"
      ],
      "execution_count": 19,
      "outputs": []
    },
    {
      "cell_type": "code",
      "metadata": {
        "id": "PrTsFoNJJTSP"
      },
      "source": [
        "# def softmax(h):\n",
        "#   h /= 1000\n",
        "#   soft = np.exp(h) / np.sum(np.exp(h))\n",
        "#   soft[np.isnan(soft)] = 0\n",
        "#   return soft"
      ],
      "execution_count": 20,
      "outputs": []
    },
    {
      "cell_type": "code",
      "metadata": {
        "id": "Qo22PiHkJUL7"
      },
      "source": [
        "def one_hot_encoding(g):\n",
        "  '''\n",
        "  function to convert label into one hot encoding\n",
        "\n",
        "  Parameters:\n",
        "    g (list) : list of label,\n",
        "  \n",
        "  Returns:\n",
        "    y (list) : list of one hot encoding of label\n",
        "  '''\n",
        "  y = np.zeros(g.size)\n",
        "  y[np.argmax(g)] = 1\n",
        "  return y"
      ],
      "execution_count": 21,
      "outputs": []
    },
    {
      "cell_type": "code",
      "metadata": {
        "id": "rOfZ2RGGxc76"
      },
      "source": [
        "def reverse_squared_error(y, g):\n",
        "  '''\n",
        "  function to calculate derivative of square error\n",
        "\n",
        "  Parameters:\n",
        "    g (list) : list of label,\n",
        "  \n",
        "  Returns:\n",
        "    reverse (list) : list of derivative of square error\n",
        "  '''\n",
        "  reverse = 2 ** np.sum(y - g)\n",
        "  return reverse"
      ],
      "execution_count": 22,
      "outputs": []
    },
    {
      "cell_type": "code",
      "metadata": {
        "id": "uEpj-iKvyElg"
      },
      "source": [
        "def sigmoid(g):\n",
        "  '''\n",
        "  function to apply sigmoid into predicted\n",
        "\n",
        "  Parameters:\n",
        "    g (list) : list of predicted result\n",
        "  \n",
        "  Returns:\n",
        "    sigmoid of g\n",
        "  '''\n",
        "  return 1 / (1 + np.exp(-g))"
      ],
      "execution_count": 23,
      "outputs": []
    },
    {
      "cell_type": "code",
      "metadata": {
        "id": "as7yLoclJVLT"
      },
      "source": [
        "# def reverse_softmax(f2):\n",
        "#   f2 /= 1000\n",
        "#   d = []\n",
        "#   for i in range(len(f2)):\n",
        "#     derivative = np.exp(f2[i]) * np.sum([np.exp(f2[j]) for j in range(len(f2)) if j != i])\n",
        "#     d.append(derivative)\n",
        "#   d = np.array(d)\n",
        "#   d[np.isinf(d)] = 1\n",
        "#   d[np.isnan(d)] = 0\n",
        "#   return d"
      ],
      "execution_count": 24,
      "outputs": []
    },
    {
      "cell_type": "code",
      "metadata": {
        "id": "W3D8hjf8x7mh"
      },
      "source": [
        "def reverse_sigmoid(f):\n",
        "  '''\n",
        "  function to calculate derivative of sigmoid function\n",
        "    \n",
        "  Parameters:\n",
        "    f (list) : list of predicted result\n",
        "  \n",
        "  Returns:\n",
        "    list of derivative of sigmoid function\n",
        "  '''\n",
        "  return sigmoid(f) * (1-sigmoid(f))"
      ],
      "execution_count": 25,
      "outputs": []
    },
    {
      "cell_type": "code",
      "metadata": {
        "id": "pk8tcsh-xupO"
      },
      "source": [
        "def backward_propagation(cache, X, y):\n",
        "  '''\n",
        "  function to perform backpropagation\n",
        "\n",
        "  Parameters:\n",
        "    cache (list) : list of parameters,\n",
        "    X (list) : list of images,\n",
        "    y (list) : list of predicted labels\n",
        "  \n",
        "  Returns:\n",
        "    cache (dict) : dictionary of parameters\n",
        "\n",
        "  '''\n",
        "\n",
        "  dW2 = np.zeros(cache[\"W2\"].shape)\n",
        "  db2 = np.zeros(cache[\"b2\"].shape)\n",
        "\n",
        "  dEOout = reverse_squared_error(y, cache[\"g2\"])\n",
        "\n",
        "  d = reverse_sigmoid(cache[\"f2\"])\n",
        "  dW2 += dEOout * d * cache[\"f2\"]\n",
        "  db2 += dEOout * d\n",
        "\n",
        "  dW1 = np.zeros(cache[\"W1\"].shape)\n",
        "  db1 = np.zeros(cache[\"b1\"].shape)\n",
        "\n",
        "  d1 = reverse_relu(cache[\"f1\"])\n",
        "  dEHidden = np.sum(dEOout * d * cache[\"W2\"], axis=1)\n",
        "  dW1 += dEHidden * d1 * X.reshape(-1, 1)\n",
        "  db1 += dEHidden * d1\n",
        "\n",
        "  cache[\"dW1\"] = dW1\n",
        "  cache[\"db1\"] = db1\n",
        "  cache[\"dW2\"] = dW2\n",
        "  cache[\"db2\"] = db2\n",
        "  return cache"
      ],
      "execution_count": 39,
      "outputs": []
    },
    {
      "cell_type": "code",
      "metadata": {
        "id": "RaeyfRpPJZm1"
      },
      "source": [
        "def update_weights(cache, learning_rate):\n",
        "  '''\n",
        "  function to update parameters\n",
        "\n",
        "  Parameters:\n",
        "    cache(dict) : dictionary of parameters,\n",
        "    learning_rate (float) : define learning rate\n",
        "  \n",
        "  Returns:\n",
        "    cache(dict) : dictionary of updated parameters\n",
        "  '''\n",
        "  cache[\"W1\"] = cache[\"W1\"] - learning_rate * cache[\"dW1\"]\n",
        "  cache[\"b1\"] = cache[\"b1\"] - learning_rate * cache[\"db1\"]\n",
        "  cache[\"W2\"] = cache[\"W2\"] - learning_rate * cache[\"dW2\"]\n",
        "  cache[\"b2\"] = cache[\"b2\"] - learning_rate * cache[\"db2\"]\n",
        "  return cache"
      ],
      "execution_count": 27,
      "outputs": []
    },
    {
      "cell_type": "code",
      "metadata": {
        "id": "q_6lqfraJbju"
      },
      "source": [
        "def accuracy(y, y_pred):\n",
        "  '''\n",
        "  function to calculate how many label predicted correctly\n",
        "\n",
        "  Parameters:\n",
        "    y (list) : list of real labels,\n",
        "    y_pred (list) : list of predicted labels\n",
        "\n",
        "  Returns: \n",
        "    number of accuracy\n",
        "  '''\n",
        "  return (y == y_pred).all()"
      ],
      "execution_count": 28,
      "outputs": []
    },
    {
      "cell_type": "code",
      "metadata": {
        "colab": {
          "base_uri": "https://localhost:8080/"
        },
        "id": "z6Z-NPNty1Jx",
        "outputId": "4b63cbaf-de48-4be9-9181-1dddf5150556"
      },
      "source": [
        "# np.seterr(divide='ignore', invalid='ignore')\n",
        "\n",
        "def train(input_neuron, hidden_neuron, output_neuron, X_train, y_train, learning_rate=0.001, epochs=5):\n",
        "  '''\n",
        "  function to perform training\n",
        "\n",
        "  Parameters:\n",
        "    input_neuron (int) : define number of input node,\n",
        "    hidden_neuron (int) : define number of hidden node,\n",
        "    output_neuron (int) : define number of output node,\n",
        "    X_train (list) : list of training set,\n",
        "    y_train (list) : list of label of training set,\n",
        "    learning_rate (float) : learning rate of training\n",
        "    epochs (int) : epoch for the training\n",
        "\n",
        "  Returns:\n",
        "    cache(dict) : dictionary of updated parameters\n",
        "  '''\n",
        "  \n",
        "  cache = initialize_parameters(input_neuron, hidden_neuron, output_neuron)\n",
        "  acc_per_epoch = []\n",
        "  cost_per_epoch = []\n",
        "  for epoch in range(epochs):\n",
        "    cost_total = []\n",
        "    acc_total = []\n",
        "\n",
        "    print(\"Running epoch\", str(epoch + 1))\n",
        "\n",
        "    for i in range(0, len(X_train)):\n",
        "      cache = forward_propagation(cache, X_train[i])\n",
        "      cost = squared_error(y_train[i], cache[\"g2\"])\n",
        "      cache = backward_propagation(cache, X_train[i], y_train[i])\n",
        "      cache = update_weights(cache, learning_rate)\n",
        "\n",
        "      acc = accuracy(y_train[i], one_hot_encoding(cache[\"g2\"]))\n",
        "\n",
        "      acc_total.append(acc)\n",
        "      cost_total.append(cost)\n",
        "\n",
        "    acc_total = np.mean(acc_total)\n",
        "    cost_total = np.mean(cost_total)\n",
        "    acc_per_epoch.append(acc_total)\n",
        "    cost_per_epoch.append(cost_total)\n",
        "\n",
        "  cache[\"acc_per_epoch\"] = acc_per_epoch\n",
        "  cache[\"cost_per_epoch\"] = cost_per_epoch\n",
        "  \n",
        "  return cache\n",
        "\n",
        "cache = train(X_train.shape[1], 200, 3, X_train, y_train)"
      ],
      "execution_count": 73,
      "outputs": [
        {
          "output_type": "stream",
          "text": [
            "Running epoch 1\n",
            "Running epoch 2\n",
            "Running epoch 3\n",
            "Running epoch 4\n",
            "Running epoch 5\n"
          ],
          "name": "stdout"
        }
      ]
    },
    {
      "cell_type": "code",
      "metadata": {
        "id": "2LVO2Ye9A7UN",
        "colab": {
          "base_uri": "https://localhost:8080/"
        },
        "outputId": "67334f21-1ca1-49a6-d5d3-5a07da6f1bcc"
      },
      "source": [
        "cache"
      ],
      "execution_count": 74,
      "outputs": [
        {
          "output_type": "execute_result",
          "data": {
            "text/plain": [
              "{'W1': array([[ 9.30077939e-04,  1.60278229e-03,  3.25371939e-04, ...,\n",
              "          1.46545668e-03,  1.95006019e-03,  2.60715847e-04],\n",
              "        [-8.49901524e-05, -2.17257226e-04,  3.00234874e-04, ...,\n",
              "         -1.02263209e-03,  1.41689707e-03, -4.10278177e-05],\n",
              "        [ 6.01225382e-04,  8.51100395e-04,  3.85185905e-04, ...,\n",
              "         -4.24091537e-05,  1.31882464e-03,  1.10405365e-03],\n",
              "        ...,\n",
              "        [-1.65556665e-03,  1.55881544e-03,  2.40856935e-03, ...,\n",
              "         -2.84287709e-04, -9.22541202e-04,  6.73953953e-04],\n",
              "        [-9.70103329e-04,  2.77281869e-04,  7.09770044e-05, ...,\n",
              "          3.64999794e-04, -1.92137324e-04, -3.18983687e-04],\n",
              "        [-3.07301101e-04, -9.79129625e-04, -1.72576777e-03, ...,\n",
              "         -7.33920326e-04,  4.57360655e-04, -2.59717717e-04]]),\n",
              " 'W2': array([[ 1.25045654e-03,  3.61481316e-04,  2.27977543e-03],\n",
              "        [-1.58774253e-03,  1.79327633e-04, -2.36083778e-04],\n",
              "        [-1.86994118e-03,  6.38739793e-04,  1.45014597e-03],\n",
              "        [ 2.97253007e-05, -9.65949625e-04,  1.62797172e-03],\n",
              "        [ 7.83910375e-04,  1.46727728e-03,  1.12609564e-03],\n",
              "        [ 3.84285912e-04,  3.09159839e-04,  9.15994707e-04],\n",
              "        [ 1.31367859e-03,  2.50436182e-04,  4.41264907e-04],\n",
              "        [ 9.54812693e-04,  1.42200655e-03, -1.03097565e-03],\n",
              "        [-1.11761635e-03,  1.41325825e-03,  7.62812754e-04],\n",
              "        [ 8.01169383e-04, -1.90037592e-04, -1.09783618e-03],\n",
              "        [ 5.22516418e-05,  2.38879821e-03,  9.02081443e-04],\n",
              "        [-4.12389297e-04,  1.20961095e-03,  2.04180885e-04],\n",
              "        [ 9.07130212e-04, -7.35261188e-04,  7.30681007e-04],\n",
              "        [ 6.21019153e-04, -6.10217743e-04, -5.49146948e-04],\n",
              "        [ 4.42966471e-04,  1.01230091e-03, -1.15932540e-03],\n",
              "        [ 8.48166540e-04, -3.47618687e-04, -9.92611017e-04],\n",
              "        [-1.10848026e-03,  2.75796725e-04, -4.99992383e-04],\n",
              "        [ 6.40200139e-04, -1.31761655e-03,  1.33428708e-03],\n",
              "        [-1.70771129e-03,  3.43404991e-04,  1.48777653e-03],\n",
              "        [ 1.52577203e-05,  3.22115994e-03, -8.09674039e-04],\n",
              "        [ 3.03988331e-04,  1.56835484e-03, -4.07779154e-04],\n",
              "        [-8.33936180e-04,  4.12597375e-04,  6.55164332e-04],\n",
              "        [-2.84862359e-04,  1.16435313e-03,  1.55480245e-03],\n",
              "        [ 3.00978876e-03,  1.57463852e-03,  2.31575930e-03],\n",
              "        [-1.25182257e-05,  2.37153484e-04,  6.90626883e-04],\n",
              "        [ 1.26247810e-03,  1.27735875e-03,  1.02559942e-03],\n",
              "        [-3.20981498e-04,  3.38034360e-04, -6.04503341e-04],\n",
              "        [-1.12462935e-03, -1.31947320e-03,  4.45480869e-04],\n",
              "        [-3.06739463e-04,  8.83076373e-04, -1.82662494e-03],\n",
              "        [-1.13098781e-03,  1.25650062e-03,  2.61852896e-04],\n",
              "        [-1.91474299e-04,  9.33824336e-04,  1.03696854e-03],\n",
              "        [ 7.12079493e-04,  1.89784903e-04,  2.20447278e-04],\n",
              "        [-7.13223457e-04,  3.52483621e-04, -2.33514787e-04],\n",
              "        [-2.50010820e-04, -5.32609581e-04, -3.32624836e-04],\n",
              "        [ 1.07469410e-03, -7.18859312e-04,  3.90991479e-04],\n",
              "        [ 1.08105483e-03,  1.00252506e-03,  1.07082291e-03],\n",
              "        [ 2.22553759e-03, -2.55897979e-04, -7.01807772e-04],\n",
              "        [-8.82493339e-04, -1.18397675e-03,  1.61230339e-04],\n",
              "        [-6.42838540e-04,  3.09307203e-04, -6.47911144e-04],\n",
              "        [-6.14106834e-04, -1.26095408e-03,  3.27946822e-04],\n",
              "        [ 1.52843360e-03, -3.54609123e-04, -7.93929459e-04],\n",
              "        [-5.37540216e-05,  1.33931573e-03, -4.52457279e-04],\n",
              "        [-1.71072612e-03, -5.57780955e-04,  1.20271393e-05],\n",
              "        [ 8.49133698e-04, -2.91505901e-04,  1.13878175e-03],\n",
              "        [-2.33476583e-03, -1.61097741e-03, -1.35802832e-03],\n",
              "        [ 2.83383463e-04, -1.14183580e-03,  1.02436676e-03],\n",
              "        [ 1.64007614e-04, -2.22688322e-03,  7.09031463e-04],\n",
              "        [ 2.13933391e-04, -4.57250094e-04,  3.38494189e-04],\n",
              "        [ 1.84950751e-03,  4.07981672e-04, -7.71994029e-04],\n",
              "        [ 1.57308865e-03,  3.16731384e-04,  7.64038997e-04],\n",
              "        [-6.90663116e-05,  1.67431814e-04, -2.96687469e-04],\n",
              "        [-5.30606035e-04, -1.15622149e-03, -3.29503607e-04],\n",
              "        [ 4.88174120e-05,  1.14582969e-03, -1.16901800e-03],\n",
              "        [ 8.61391053e-05,  2.13865813e-03, -1.12654850e-03],\n",
              "        [ 2.98768560e-04,  9.17325873e-04, -1.44147725e-03],\n",
              "        [ 3.63586054e-04,  5.10314219e-04,  1.09082959e-03],\n",
              "        [-9.65728710e-04, -4.41743369e-04, -4.08122603e-04],\n",
              "        [ 2.12750166e-03, -4.93507179e-04, -2.11555878e-03],\n",
              "        [ 1.76502387e-04,  5.95869605e-04,  1.21801878e-03],\n",
              "        [ 3.67703485e-04, -7.04844473e-05,  1.01443288e-03],\n",
              "        [ 9.21384745e-04,  4.52080226e-04,  2.26667011e-04],\n",
              "        [ 8.86356001e-04, -4.16258923e-04,  2.53943576e-03],\n",
              "        [ 5.67660312e-04, -3.80351514e-04, -1.39692097e-03],\n",
              "        [ 1.44233906e-03, -4.87592450e-04,  1.08308176e-04],\n",
              "        [-1.76792721e-03, -8.25489397e-04, -2.35498888e-04],\n",
              "        [-1.38510221e-03,  9.85298279e-04,  1.32907646e-03],\n",
              "        [ 1.23048499e-03, -3.28953955e-04, -1.56129959e-03],\n",
              "        [-8.34077085e-04,  5.97825479e-04, -6.10559458e-04],\n",
              "        [ 1.23228019e-05,  3.81501739e-04,  2.07092192e-03],\n",
              "        [ 8.78413133e-04, -5.32379107e-05,  1.54174398e-03],\n",
              "        [ 1.32454116e-03, -9.56119693e-04,  5.97554043e-04],\n",
              "        [-6.64960299e-04, -1.00561387e-04,  1.37825879e-03],\n",
              "        [-8.07163613e-04,  1.05711834e-04,  1.11393039e-03],\n",
              "        [-1.28520456e-03,  1.50305028e-03,  2.08167802e-03],\n",
              "        [ 8.98726496e-04,  3.56633202e-04, -8.12582440e-04],\n",
              "        [ 1.16222704e-03,  1.27655313e-03,  2.88653606e-04],\n",
              "        [ 1.24340478e-03,  8.87561068e-05,  2.01369363e-04],\n",
              "        [-6.05963973e-04, -8.79623259e-04,  5.84571789e-05],\n",
              "        [ 2.02295940e-03,  8.03515678e-04, -4.46099505e-04],\n",
              "        [ 2.19320210e-04, -8.16793677e-04, -1.98598498e-04],\n",
              "        [-1.86563238e-03, -1.23204713e-03,  1.27162375e-03],\n",
              "        [ 4.97502543e-04,  4.71590132e-04, -2.98439200e-05],\n",
              "        [ 1.08718990e-03,  6.39866661e-04, -1.15705153e-03],\n",
              "        [ 4.71175579e-04, -1.33377025e-04, -4.29364472e-04],\n",
              "        [ 5.81380095e-04, -3.47647711e-04,  6.47939094e-04],\n",
              "        [ 6.78038098e-04, -1.63505876e-03,  2.93259203e-04],\n",
              "        [-1.79414150e-04, -1.38377010e-04,  1.94045977e-04],\n",
              "        [ 2.33426475e-05,  5.47369247e-04, -6.65245692e-04],\n",
              "        [ 1.22395002e-03,  9.20584410e-04,  1.40723575e-03],\n",
              "        [-2.81101656e-04,  5.87173726e-05, -1.22405678e-03],\n",
              "        [-4.12071179e-05,  1.19382528e-03,  1.20905066e-03],\n",
              "        [-3.41101473e-04, -7.31380945e-04,  2.10744184e-03],\n",
              "        [ 7.35812591e-04, -1.83658113e-03, -3.74619806e-04],\n",
              "        [ 1.04206824e-03,  3.24162776e-05,  2.69646223e-04],\n",
              "        [-5.90644044e-05, -3.27387740e-04, -5.90876408e-04],\n",
              "        [ 5.19804177e-04,  1.15083679e-03, -4.52383733e-04],\n",
              "        [-3.22995783e-04,  8.11380055e-04, -1.85092200e-04],\n",
              "        [-2.09652225e-04,  6.59261573e-05,  1.97153323e-03],\n",
              "        [-4.74900850e-04, -1.11541295e-04,  3.83938231e-04],\n",
              "        [ 3.69147369e-04,  1.24910499e-03,  5.09658996e-04],\n",
              "        [-6.08372022e-04,  2.12763503e-04, -1.01365111e-03],\n",
              "        [ 6.00891817e-04,  6.98096797e-04, -1.19111550e-03],\n",
              "        [ 1.79312438e-03, -1.14563700e-04, -2.81845188e-04],\n",
              "        [ 3.88221341e-04, -1.67835686e-04, -1.69916895e-03],\n",
              "        [-1.35084688e-03,  3.33856079e-04,  4.52403807e-04],\n",
              "        [ 1.33820112e-03, -1.15397232e-03, -1.52850312e-03],\n",
              "        [-1.27273529e-03, -6.64301425e-04,  5.34931645e-04],\n",
              "        [ 5.54572057e-04, -1.81165866e-04,  3.32914153e-04],\n",
              "        [-1.27612632e-03,  4.15502969e-04, -6.97487909e-04],\n",
              "        [ 8.26131961e-04, -5.23709319e-04,  2.01909747e-05],\n",
              "        [ 1.46203520e-03, -1.81709366e-04,  8.04541120e-04],\n",
              "        [ 1.02744017e-03,  4.63112666e-04,  7.40297243e-04],\n",
              "        [ 1.60311403e-04, -4.79307809e-04, -1.03500539e-03],\n",
              "        [-4.65497877e-04, -9.62533481e-04,  1.57072573e-03],\n",
              "        [ 2.59405022e-04,  5.54819558e-04,  6.13245370e-04],\n",
              "        [ 1.51329110e-03, -6.27742892e-04,  2.14822903e-03],\n",
              "        [-1.72914216e-04,  1.05434330e-03, -8.99502737e-04],\n",
              "        [-7.79257941e-04,  4.00664513e-04,  2.35292139e-04],\n",
              "        [ 1.54093004e-03,  6.53031128e-04,  1.24987626e-03],\n",
              "        [-1.50935001e-04,  1.22244631e-04,  2.04452560e-03],\n",
              "        [ 1.35576355e-03,  7.05748356e-04,  9.06102335e-04],\n",
              "        [-5.03928331e-04,  1.65966731e-04, -2.90749421e-04],\n",
              "        [-2.09196530e-04,  3.98212318e-04, -2.99064011e-04],\n",
              "        [ 1.26996079e-03,  1.31303206e-03,  2.61989137e-04],\n",
              "        [-1.81259010e-04, -1.88055274e-03, -1.76862317e-03],\n",
              "        [ 1.89141863e-03,  1.38792152e-03,  3.40267522e-04],\n",
              "        [ 1.44252181e-03,  1.71210065e-04,  9.00225372e-04],\n",
              "        [-9.57650392e-04, -4.62636631e-05, -8.67525378e-04],\n",
              "        [ 4.03688179e-04, -6.35613438e-04, -1.84154853e-04],\n",
              "        [ 8.43037431e-04, -4.30382661e-04, -1.42215675e-03],\n",
              "        [ 2.61229054e-03,  8.65083681e-04, -4.05013928e-04],\n",
              "        [ 1.46632076e-03,  7.19677674e-04, -2.18153400e-04],\n",
              "        [ 1.62068392e-04,  9.71743271e-04, -6.59072520e-04],\n",
              "        [-8.22021647e-06,  1.17608592e-03, -2.07909824e-04],\n",
              "        [-1.15718193e-03,  8.52883874e-04, -2.43620014e-04],\n",
              "        [-9.60035903e-04,  8.37684003e-04, -2.38087691e-05],\n",
              "        [-8.63040109e-04, -7.52590140e-05,  1.43119734e-03],\n",
              "        [-9.27745829e-04,  1.89155037e-03, -1.73685179e-03],\n",
              "        [-6.91861795e-04,  1.14492606e-03,  1.19382933e-03],\n",
              "        [ 1.71858135e-04,  1.25922273e-03,  1.69403871e-04],\n",
              "        [-7.06057097e-04, -6.15707938e-04,  1.46028903e-03],\n",
              "        [-1.03129836e-03, -1.65424892e-03, -7.27553219e-04],\n",
              "        [ 1.75296774e-03, -2.04497476e-03,  1.85078671e-03],\n",
              "        [ 3.55514249e-04, -4.77416456e-04,  7.96072989e-04],\n",
              "        [-2.62032585e-04,  9.22614305e-05,  5.56189026e-05],\n",
              "        [-8.85569078e-04, -5.30059000e-04, -2.17389865e-03],\n",
              "        [ 7.76417943e-04,  1.34575893e-03, -2.99814645e-06],\n",
              "        [-1.19772096e-03,  2.30289740e-04,  1.20605456e-03],\n",
              "        [ 1.31588187e-03,  7.22935072e-04, -9.73749991e-04],\n",
              "        [ 1.15442979e-03,  1.29843975e-03, -2.91221825e-05],\n",
              "        [ 7.45896114e-05,  8.30338484e-04, -3.31869768e-04],\n",
              "        [ 2.09717019e-03,  1.67987977e-03,  1.98420125e-03],\n",
              "        [ 3.88650028e-04, -6.10144268e-04,  9.21296421e-04],\n",
              "        [-1.28975215e-03, -1.28514226e-03,  1.83950595e-03],\n",
              "        [ 5.57063272e-06, -5.14633956e-04, -1.55199580e-04],\n",
              "        [ 9.26299573e-04,  1.91289327e-03, -2.90467143e-04],\n",
              "        [-5.11175549e-05, -2.67634992e-04, -3.01203032e-04],\n",
              "        [ 4.75914004e-04, -1.34853648e-03, -3.41398386e-04],\n",
              "        [ 4.56167188e-04,  1.94607361e-03,  7.95859362e-05],\n",
              "        [-9.06719408e-04,  2.76231702e-04,  2.28611938e-04],\n",
              "        [-7.68441917e-04,  9.60348824e-05,  1.21231150e-03],\n",
              "        [ 1.38721782e-03,  1.28493459e-03, -8.87609755e-04],\n",
              "        [ 1.56685636e-03,  1.66752340e-03,  9.25731407e-05],\n",
              "        [ 2.15509321e-03, -2.01991112e-04, -6.57762902e-04],\n",
              "        [ 1.21347425e-03,  6.16519891e-04,  1.54984701e-03],\n",
              "        [ 2.20314765e-03,  8.43102950e-04, -1.60397544e-04],\n",
              "        [ 2.54623782e-03,  1.08551286e-04, -2.43960320e-04],\n",
              "        [-5.09206507e-04,  1.53548604e-03,  1.59285370e-03],\n",
              "        [ 7.67447248e-04, -9.94284293e-04,  7.45112199e-04],\n",
              "        [ 1.24897233e-03,  1.96969169e-03,  3.22362620e-04],\n",
              "        [ 1.53502108e-03,  3.11577752e-04, -2.76673535e-04],\n",
              "        [-1.38338154e-03,  5.04845323e-04,  5.02187477e-04],\n",
              "        [ 1.16569919e-03,  6.14803075e-04, -1.04371677e-03],\n",
              "        [ 2.42176465e-03, -5.60427403e-04, -1.52423784e-03],\n",
              "        [ 1.28750784e-03, -9.92758117e-04, -2.85225629e-04],\n",
              "        [-5.77421267e-04,  1.12097471e-03,  6.15193613e-04],\n",
              "        [-8.74518433e-04, -1.88390812e-04,  2.13942855e-04],\n",
              "        [ 1.40265977e-03,  2.32097786e-06,  9.39247483e-04],\n",
              "        [ 6.72913317e-06,  4.10961548e-04,  7.04888823e-04],\n",
              "        [ 2.22251841e-03,  4.26823893e-04, -3.28622501e-04],\n",
              "        [-2.87546539e-04, -1.64253012e-03, -1.45431831e-03],\n",
              "        [ 2.60668113e-03,  7.36257438e-04,  1.19696849e-04],\n",
              "        [ 2.89492878e-04,  6.36208167e-04,  1.28623997e-06],\n",
              "        [-2.43765179e-04, -3.31068461e-04, -3.15464169e-04],\n",
              "        [-6.02554960e-04, -5.80211300e-04,  6.17997986e-04],\n",
              "        [-2.32898267e-04, -4.30769760e-04,  2.64386855e-03],\n",
              "        [ 3.41890676e-04, -1.59372536e-03,  7.47805271e-04],\n",
              "        [ 1.87419433e-04, -4.56170227e-04,  9.81621420e-05],\n",
              "        [ 3.64462584e-04, -5.76834758e-04, -1.49678406e-04],\n",
              "        [-4.55425128e-04,  8.23797381e-05,  6.10075949e-04],\n",
              "        [ 7.78546097e-05,  3.91137295e-04, -7.82391698e-04],\n",
              "        [-1.31347081e-03,  1.34759558e-03,  3.82648683e-04],\n",
              "        [ 3.04324726e-06,  2.85051594e-04,  1.32596206e-03],\n",
              "        [ 4.04051503e-04,  1.39755880e-03,  4.21529922e-05],\n",
              "        [ 8.08696257e-04,  1.72009665e-03, -7.50492054e-05],\n",
              "        [ 1.17650654e-03,  8.20680637e-05,  4.71864281e-04],\n",
              "        [-5.84368069e-04, -1.01430411e-03, -2.05608409e-04],\n",
              "        [-9.05500677e-04,  8.59823838e-04, -1.30547175e-03],\n",
              "        [ 5.72778235e-04, -3.82098422e-04,  5.59748611e-04],\n",
              "        [-9.03132319e-04,  3.73091598e-04, -5.91954956e-04]]),\n",
              " 'acc_per_epoch': [0.32916666666666666,\n",
              "  0.3458333333333333,\n",
              "  0.325,\n",
              "  0.2916666666666667,\n",
              "  0.3625],\n",
              " 'b1': array([0.49991525, 0.50067344, 0.5002802 , 0.50018047, 0.49993229,\n",
              "        0.49998683, 0.49994914, 0.50004248, 0.50010306, 0.50042918,\n",
              "        0.49993023, 0.50011512, 0.50013601, 0.50044008, 0.50026402,\n",
              "        0.50043032, 0.50060765, 0.50018785, 0.50030035, 0.49993595,\n",
              "        0.5000174 , 0.50027709, 0.49994793, 0.49990346, 0.50013331,\n",
              "        0.49993543, 0.50045041, 0.50074818, 0.50059029, 0.50024468,\n",
              "        0.49997122, 0.50008964, 0.50045184, 0.50056179, 0.50016888,\n",
              "        0.49991934, 0.50005897, 0.50072848, 0.50053355, 0.50065292,\n",
              "        0.50024633, 0.50015065, 0.50080258, 0.49997006, 0.50144562,\n",
              "        0.50029144, 0.50061215, 0.50030637, 0.50001303, 0.49993496,\n",
              "        0.5003683 , 0.50075194, 0.50032105, 0.5000947 , 0.50037403,\n",
              "        0.49996294, 0.50070957, 0.50042814, 0.49995694, 0.50004967,\n",
              "        0.49998881, 0.49993372, 0.50058173, 0.50010216, 0.50092338,\n",
              "        0.50013031, 0.50046572, 0.50050513, 0.49994252, 0.49993365,\n",
              "        0.50012264, 0.50019713, 0.50023939, 0.49994375, 0.50023304,\n",
              "        0.49992876, 0.50000287, 0.5006276 , 0.4999531 , 0.50049445,\n",
              "        0.50071174, 0.50012826, 0.5002062 , 0.50034579, 0.50014041,\n",
              "        0.50046654, 0.50035256, 0.50034641, 0.49993068, 0.50063169,\n",
              "        0.49996058, 0.50010804, 0.50063782, 0.50004283, 0.50053269,\n",
              "        0.50006939, 0.50026244, 0.49996326, 0.50036917, 0.49994887,\n",
              "        0.50062383, 0.50030371, 0.50003176, 0.50063853, 0.50044556,\n",
              "        0.50061017, 0.5006223 , 0.50017742, 0.50065522, 0.50025839,\n",
              "        0.49995671, 0.49994306, 0.50061219, 0.50029632, 0.50002523,\n",
              "        0.49993787, 0.50033027, 0.50035667, 0.49992137, 0.499952  ,\n",
              "        0.49992228, 0.50045912, 0.50034967, 0.49993853, 0.50113477,\n",
              "        0.49992784, 0.49994943, 0.50072135, 0.50041427, 0.50053951,\n",
              "        0.49993272, 0.49994891, 0.50022628, 0.50012388, 0.50044205,\n",
              "        0.50035727, 0.50022241, 0.50048957, 0.49998192, 0.49998872,\n",
              "        0.5002972 , 0.50104668, 0.49999755, 0.50018419, 0.50035054,\n",
              "        0.50108392, 0.49994934, 0.50027606, 0.50010174, 0.49992947,\n",
              "        0.50020553, 0.49991118, 0.50017878, 0.5004816 , 0.50046663,\n",
              "        0.49991957, 0.50045728, 0.50058265, 0.4999292 , 0.50041124,\n",
              "        0.5002125 , 0.49996601, 0.49992534, 0.50005319, 0.49993077,\n",
              "        0.49992865, 0.4999427 , 0.4999347 , 0.5002171 , 0.49991704,\n",
              "        0.4999952 , 0.50040584, 0.50017101, 0.50025538, 0.50032448,\n",
              "        0.50008191, 0.50050558, 0.49994804, 0.50008956, 0.49994375,\n",
              "        0.50104064, 0.49992493, 0.50013084, 0.50051432, 0.50044562,\n",
              "        0.49994458, 0.50043282, 0.50036246, 0.50040286, 0.50027642,\n",
              "        0.50039259, 0.50023847, 0.49998584, 0.49996413, 0.49995139,\n",
              "        0.49996703, 0.50070719, 0.50061156, 0.50016811, 0.5005632 ]),\n",
              " 'b2': array([0.28900084, 0.28897603, 0.2889718 ]),\n",
              " 'cost_per_epoch': [0.25490958604236486,\n",
              "  0.2506553467350845,\n",
              "  0.25086148215958387,\n",
              "  0.25079286380574356,\n",
              "  0.2506405431091195],\n",
              " 'dW1': array([[ 0.00000000e+00, -1.17451754e-04,  1.35767301e-05, ...,\n",
              "         -9.68268573e-05,  5.09425362e-05, -8.07137305e-05],\n",
              "        [ 0.00000000e+00, -1.18638135e-04,  1.37138688e-05, ...,\n",
              "         -9.78049064e-05,  5.14571073e-05, -8.15290207e-05],\n",
              "        [ 0.00000000e+00, -1.18638135e-04,  1.37138688e-05, ...,\n",
              "         -9.78049064e-05,  5.14571073e-05, -8.15290207e-05],\n",
              "        ...,\n",
              "        [ 0.00000000e+00, -2.07616737e-04,  2.39992705e-05, ...,\n",
              "         -1.71158586e-04,  9.00499378e-05, -1.42675786e-04],\n",
              "        [ 0.00000000e+00, -2.06430355e-04,  2.38621318e-05, ...,\n",
              "         -1.70180537e-04,  8.95353667e-05, -1.41860496e-04],\n",
              "        [ 0.00000000e+00, -2.06430355e-04,  2.38621318e-05, ...,\n",
              "         -1.70180537e-04,  8.95353667e-05, -1.41860496e-04]]),\n",
              " 'dW2': array([[-0.00879819, -0.00858887, -0.00853421],\n",
              "        [-0.00879819, -0.00858887, -0.00853421],\n",
              "        [-0.00879819, -0.00858887, -0.00853421],\n",
              "        [-0.00879819, -0.00858887, -0.00853421],\n",
              "        [-0.00879819, -0.00858887, -0.00853421],\n",
              "        [-0.00879819, -0.00858887, -0.00853421],\n",
              "        [-0.00879819, -0.00858887, -0.00853421],\n",
              "        [-0.00879819, -0.00858887, -0.00853421],\n",
              "        [-0.00879819, -0.00858887, -0.00853421],\n",
              "        [-0.00879819, -0.00858887, -0.00853421],\n",
              "        [-0.00879819, -0.00858887, -0.00853421],\n",
              "        [-0.00879819, -0.00858887, -0.00853421],\n",
              "        [-0.00879819, -0.00858887, -0.00853421],\n",
              "        [-0.00879819, -0.00858887, -0.00853421],\n",
              "        [-0.00879819, -0.00858887, -0.00853421],\n",
              "        [-0.00879819, -0.00858887, -0.00853421],\n",
              "        [-0.00879819, -0.00858887, -0.00853421],\n",
              "        [-0.00879819, -0.00858887, -0.00853421],\n",
              "        [-0.00879819, -0.00858887, -0.00853421],\n",
              "        [-0.00879819, -0.00858887, -0.00853421],\n",
              "        [-0.00879819, -0.00858887, -0.00853421],\n",
              "        [-0.00879819, -0.00858887, -0.00853421],\n",
              "        [-0.00879819, -0.00858887, -0.00853421],\n",
              "        [-0.00879819, -0.00858887, -0.00853421],\n",
              "        [-0.00879819, -0.00858887, -0.00853421],\n",
              "        [-0.00879819, -0.00858887, -0.00853421],\n",
              "        [-0.00879819, -0.00858887, -0.00853421],\n",
              "        [-0.00879819, -0.00858887, -0.00853421],\n",
              "        [-0.00879819, -0.00858887, -0.00853421],\n",
              "        [-0.00879819, -0.00858887, -0.00853421],\n",
              "        [-0.00879819, -0.00858887, -0.00853421],\n",
              "        [-0.00879819, -0.00858887, -0.00853421],\n",
              "        [-0.00879819, -0.00858887, -0.00853421],\n",
              "        [-0.00879819, -0.00858887, -0.00853421],\n",
              "        [-0.00879819, -0.00858887, -0.00853421],\n",
              "        [-0.00879819, -0.00858887, -0.00853421],\n",
              "        [-0.00879819, -0.00858887, -0.00853421],\n",
              "        [-0.00879819, -0.00858887, -0.00853421],\n",
              "        [-0.00879819, -0.00858887, -0.00853421],\n",
              "        [-0.00879819, -0.00858887, -0.00853421],\n",
              "        [-0.00879819, -0.00858887, -0.00853421],\n",
              "        [-0.00879819, -0.00858887, -0.00853421],\n",
              "        [-0.00879819, -0.00858887, -0.00853421],\n",
              "        [-0.00879819, -0.00858887, -0.00853421],\n",
              "        [-0.00879819, -0.00858887, -0.00853421],\n",
              "        [-0.00879819, -0.00858887, -0.00853421],\n",
              "        [-0.00879819, -0.00858887, -0.00853421],\n",
              "        [-0.00879819, -0.00858887, -0.00853421],\n",
              "        [-0.00879819, -0.00858887, -0.00853421],\n",
              "        [-0.00879819, -0.00858887, -0.00853421],\n",
              "        [-0.00879819, -0.00858887, -0.00853421],\n",
              "        [-0.00879819, -0.00858887, -0.00853421],\n",
              "        [-0.00879819, -0.00858887, -0.00853421],\n",
              "        [-0.00879819, -0.00858887, -0.00853421],\n",
              "        [-0.00879819, -0.00858887, -0.00853421],\n",
              "        [-0.00879819, -0.00858887, -0.00853421],\n",
              "        [-0.00879819, -0.00858887, -0.00853421],\n",
              "        [-0.00879819, -0.00858887, -0.00853421],\n",
              "        [-0.00879819, -0.00858887, -0.00853421],\n",
              "        [-0.00879819, -0.00858887, -0.00853421],\n",
              "        [-0.00879819, -0.00858887, -0.00853421],\n",
              "        [-0.00879819, -0.00858887, -0.00853421],\n",
              "        [-0.00879819, -0.00858887, -0.00853421],\n",
              "        [-0.00879819, -0.00858887, -0.00853421],\n",
              "        [-0.00879819, -0.00858887, -0.00853421],\n",
              "        [-0.00879819, -0.00858887, -0.00853421],\n",
              "        [-0.00879819, -0.00858887, -0.00853421],\n",
              "        [-0.00879819, -0.00858887, -0.00853421],\n",
              "        [-0.00879819, -0.00858887, -0.00853421],\n",
              "        [-0.00879819, -0.00858887, -0.00853421],\n",
              "        [-0.00879819, -0.00858887, -0.00853421],\n",
              "        [-0.00879819, -0.00858887, -0.00853421],\n",
              "        [-0.00879819, -0.00858887, -0.00853421],\n",
              "        [-0.00879819, -0.00858887, -0.00853421],\n",
              "        [-0.00879819, -0.00858887, -0.00853421],\n",
              "        [-0.00879819, -0.00858887, -0.00853421],\n",
              "        [-0.00879819, -0.00858887, -0.00853421],\n",
              "        [-0.00879819, -0.00858887, -0.00853421],\n",
              "        [-0.00879819, -0.00858887, -0.00853421],\n",
              "        [-0.00879819, -0.00858887, -0.00853421],\n",
              "        [-0.00879819, -0.00858887, -0.00853421],\n",
              "        [-0.00879819, -0.00858887, -0.00853421],\n",
              "        [-0.00879819, -0.00858887, -0.00853421],\n",
              "        [-0.00879819, -0.00858887, -0.00853421],\n",
              "        [-0.00879819, -0.00858887, -0.00853421],\n",
              "        [-0.00879819, -0.00858887, -0.00853421],\n",
              "        [-0.00879819, -0.00858887, -0.00853421],\n",
              "        [-0.00879819, -0.00858887, -0.00853421],\n",
              "        [-0.00879819, -0.00858887, -0.00853421],\n",
              "        [-0.00879819, -0.00858887, -0.00853421],\n",
              "        [-0.00879819, -0.00858887, -0.00853421],\n",
              "        [-0.00879819, -0.00858887, -0.00853421],\n",
              "        [-0.00879819, -0.00858887, -0.00853421],\n",
              "        [-0.00879819, -0.00858887, -0.00853421],\n",
              "        [-0.00879819, -0.00858887, -0.00853421],\n",
              "        [-0.00879819, -0.00858887, -0.00853421],\n",
              "        [-0.00879819, -0.00858887, -0.00853421],\n",
              "        [-0.00879819, -0.00858887, -0.00853421],\n",
              "        [-0.00879819, -0.00858887, -0.00853421],\n",
              "        [-0.00879819, -0.00858887, -0.00853421],\n",
              "        [-0.00879819, -0.00858887, -0.00853421],\n",
              "        [-0.00879819, -0.00858887, -0.00853421],\n",
              "        [-0.00879819, -0.00858887, -0.00853421],\n",
              "        [-0.00879819, -0.00858887, -0.00853421],\n",
              "        [-0.00879819, -0.00858887, -0.00853421],\n",
              "        [-0.00879819, -0.00858887, -0.00853421],\n",
              "        [-0.00879819, -0.00858887, -0.00853421],\n",
              "        [-0.00879819, -0.00858887, -0.00853421],\n",
              "        [-0.00879819, -0.00858887, -0.00853421],\n",
              "        [-0.00879819, -0.00858887, -0.00853421],\n",
              "        [-0.00879819, -0.00858887, -0.00853421],\n",
              "        [-0.00879819, -0.00858887, -0.00853421],\n",
              "        [-0.00879819, -0.00858887, -0.00853421],\n",
              "        [-0.00879819, -0.00858887, -0.00853421],\n",
              "        [-0.00879819, -0.00858887, -0.00853421],\n",
              "        [-0.00879819, -0.00858887, -0.00853421],\n",
              "        [-0.00879819, -0.00858887, -0.00853421],\n",
              "        [-0.00879819, -0.00858887, -0.00853421],\n",
              "        [-0.00879819, -0.00858887, -0.00853421],\n",
              "        [-0.00879819, -0.00858887, -0.00853421],\n",
              "        [-0.00879819, -0.00858887, -0.00853421],\n",
              "        [-0.00879819, -0.00858887, -0.00853421],\n",
              "        [-0.00879819, -0.00858887, -0.00853421],\n",
              "        [-0.00879819, -0.00858887, -0.00853421],\n",
              "        [-0.00879819, -0.00858887, -0.00853421],\n",
              "        [-0.00879819, -0.00858887, -0.00853421],\n",
              "        [-0.00879819, -0.00858887, -0.00853421],\n",
              "        [-0.00879819, -0.00858887, -0.00853421],\n",
              "        [-0.00879819, -0.00858887, -0.00853421],\n",
              "        [-0.00879819, -0.00858887, -0.00853421],\n",
              "        [-0.00879819, -0.00858887, -0.00853421],\n",
              "        [-0.00879819, -0.00858887, -0.00853421],\n",
              "        [-0.00879819, -0.00858887, -0.00853421],\n",
              "        [-0.00879819, -0.00858887, -0.00853421],\n",
              "        [-0.00879819, -0.00858887, -0.00853421],\n",
              "        [-0.00879819, -0.00858887, -0.00853421],\n",
              "        [-0.00879819, -0.00858887, -0.00853421],\n",
              "        [-0.00879819, -0.00858887, -0.00853421],\n",
              "        [-0.00879819, -0.00858887, -0.00853421],\n",
              "        [-0.00879819, -0.00858887, -0.00853421],\n",
              "        [-0.00879819, -0.00858887, -0.00853421],\n",
              "        [-0.00879819, -0.00858887, -0.00853421],\n",
              "        [-0.00879819, -0.00858887, -0.00853421],\n",
              "        [-0.00879819, -0.00858887, -0.00853421],\n",
              "        [-0.00879819, -0.00858887, -0.00853421],\n",
              "        [-0.00879819, -0.00858887, -0.00853421],\n",
              "        [-0.00879819, -0.00858887, -0.00853421],\n",
              "        [-0.00879819, -0.00858887, -0.00853421],\n",
              "        [-0.00879819, -0.00858887, -0.00853421],\n",
              "        [-0.00879819, -0.00858887, -0.00853421],\n",
              "        [-0.00879819, -0.00858887, -0.00853421],\n",
              "        [-0.00879819, -0.00858887, -0.00853421],\n",
              "        [-0.00879819, -0.00858887, -0.00853421],\n",
              "        [-0.00879819, -0.00858887, -0.00853421],\n",
              "        [-0.00879819, -0.00858887, -0.00853421],\n",
              "        [-0.00879819, -0.00858887, -0.00853421],\n",
              "        [-0.00879819, -0.00858887, -0.00853421],\n",
              "        [-0.00879819, -0.00858887, -0.00853421],\n",
              "        [-0.00879819, -0.00858887, -0.00853421],\n",
              "        [-0.00879819, -0.00858887, -0.00853421],\n",
              "        [-0.00879819, -0.00858887, -0.00853421],\n",
              "        [-0.00879819, -0.00858887, -0.00853421],\n",
              "        [-0.00879819, -0.00858887, -0.00853421],\n",
              "        [-0.00879819, -0.00858887, -0.00853421],\n",
              "        [-0.00879819, -0.00858887, -0.00853421],\n",
              "        [-0.00879819, -0.00858887, -0.00853421],\n",
              "        [-0.00879819, -0.00858887, -0.00853421],\n",
              "        [-0.00879819, -0.00858887, -0.00853421],\n",
              "        [-0.00879819, -0.00858887, -0.00853421],\n",
              "        [-0.00879819, -0.00858887, -0.00853421],\n",
              "        [-0.00879819, -0.00858887, -0.00853421],\n",
              "        [-0.00879819, -0.00858887, -0.00853421],\n",
              "        [-0.00879819, -0.00858887, -0.00853421],\n",
              "        [-0.00879819, -0.00858887, -0.00853421],\n",
              "        [-0.00879819, -0.00858887, -0.00853421],\n",
              "        [-0.00879819, -0.00858887, -0.00853421],\n",
              "        [-0.00879819, -0.00858887, -0.00853421],\n",
              "        [-0.00879819, -0.00858887, -0.00853421],\n",
              "        [-0.00879819, -0.00858887, -0.00853421],\n",
              "        [-0.00879819, -0.00858887, -0.00853421],\n",
              "        [-0.00879819, -0.00858887, -0.00853421],\n",
              "        [-0.00879819, -0.00858887, -0.00853421],\n",
              "        [-0.00879819, -0.00858887, -0.00853421],\n",
              "        [-0.00879819, -0.00858887, -0.00853421],\n",
              "        [-0.00879819, -0.00858887, -0.00853421],\n",
              "        [-0.00879819, -0.00858887, -0.00853421],\n",
              "        [-0.00879819, -0.00858887, -0.00853421],\n",
              "        [-0.00879819, -0.00858887, -0.00853421],\n",
              "        [-0.00879819, -0.00858887, -0.00853421],\n",
              "        [-0.00879819, -0.00858887, -0.00853421],\n",
              "        [-0.00879819, -0.00858887, -0.00853421],\n",
              "        [-0.00879819, -0.00858887, -0.00853421],\n",
              "        [-0.00879819, -0.00858887, -0.00853421],\n",
              "        [-0.00879819, -0.00858887, -0.00853421],\n",
              "        [-0.00879819, -0.00858887, -0.00853421],\n",
              "        [-0.00879819, -0.00858887, -0.00853421],\n",
              "        [-0.00879819, -0.00858887, -0.00853421],\n",
              "        [-0.00879819, -0.00858887, -0.00853421],\n",
              "        [-0.00879819, -0.00858887, -0.00853421],\n",
              "        [-0.00879819, -0.00858887, -0.00853421]]),\n",
              " 'db1': array([ 0.00000000e+00, -3.02527245e-04,  3.49703655e-05,  1.20591832e-04,\n",
              "         0.00000000e+00,  2.86795376e-04,  0.00000000e+00,  2.39049141e-04,\n",
              "         1.87011976e-04, -9.28486438e-05,  0.00000000e+00,  1.76674820e-04,\n",
              "         1.58765381e-04, -1.02199918e-04,  4.89005995e-05, -9.38192888e-05,\n",
              "        -2.46054806e-04,  1.14271749e-04,  1.76779409e-05,  0.00000000e+00,\n",
              "         2.60555045e-04,  3.76592617e-05,  0.00000000e+00,  0.00000000e+00,\n",
              "         1.61072284e-04,  0.00000000e+00, -1.11088801e-04, -3.66665013e-04,\n",
              "        -2.31139025e-04,  6.54683862e-05,  0.00000000e+00,  1.98567417e-04,\n",
              "        -1.12318669e-04, -2.06679358e-04,  1.30560483e-04,  0.00000000e+00,\n",
              "         2.24914225e-04, -3.49753906e-04, -1.82444357e-04, -2.84893787e-04,\n",
              "         6.41006078e-05,  1.46191174e-04, -4.13364137e-04,  3.02544569e-04,\n",
              "        -9.65267244e-04,  2.53545288e-05, -2.49893484e-04,  1.25426043e-05,\n",
              "         2.64337706e-04,  0.00000000e+00, -4.06133935e-05, -3.69876415e-04,\n",
              "        -5.46389806e-08,  1.94210710e-04, -4.55177994e-05,  0.00000000e+00,\n",
              "        -3.33518326e-04, -9.19256919e-05,  0.00000000e+00,  2.32862176e-04,\n",
              "         2.85105897e-04,  0.00000000e+00, -2.23775935e-04,  1.87831400e-04,\n",
              "        -5.17039755e-04,  1.63617477e-04, -1.24195593e-04, -1.58059832e-04,\n",
              "         0.00000000e+00,  0.00000000e+00,  1.70250296e-04,  1.06285202e-04,\n",
              "         7.00161364e-05,  0.00000000e+00,  7.54925492e-05,  0.00000000e+00,\n",
              "         2.73041798e-04, -2.63163493e-04,  0.00000000e+00, -1.48875080e-04,\n",
              "        -3.35406265e-04,  1.65413078e-04,  9.85337734e-05, -2.12813616e-05,\n",
              "         1.54985532e-04, -1.24913582e-04, -2.71053705e-05, -2.18169363e-05,\n",
              "         0.00000000e+00, -2.66664262e-04,  0.00000000e+00,  1.82754516e-04,\n",
              "        -2.71911011e-04,  2.38740163e-04, -1.81702133e-04,  2.15944513e-04,\n",
              "         5.02369080e-05,  0.00000000e+00, -4.13678781e-05,  0.00000000e+00,\n",
              "        -2.59928300e-04,  1.48380253e-05,  2.48259461e-04, -2.72525844e-04,\n",
              "        -1.06941379e-04, -2.48169062e-04, -2.58627172e-04,  1.23226870e-04,\n",
              "        -2.86883515e-04,  5.37307799e-05,  0.00000000e+00,  0.00000000e+00,\n",
              "        -2.49924274e-04,  2.11535465e-05,  2.53838367e-04,  0.00000000e+00,\n",
              "        -7.96831736e-06, -3.06441680e-05,  0.00000000e+00,  0.00000000e+00,\n",
              "         0.00000000e+00, -1.18560301e-04, -2.46251594e-05,  0.00000000e+00,\n",
              "        -6.98438019e-04,  0.00000000e+00,  0.00000000e+00, -3.43633177e-04,\n",
              "        -8.00544809e-05, -1.87534773e-04,  0.00000000e+00,  0.00000000e+00,\n",
              "         8.12851686e-05,  1.69165722e-04, -1.03924292e-04, -3.11614653e-05,\n",
              "         8.45818731e-05, -1.44701223e-04,  2.93584401e-04,  2.85173480e-04,\n",
              "         2.03993022e-05, -6.22847660e-04,  2.77614373e-04,  1.17405763e-04,\n",
              "        -2.53677285e-05, -6.54803368e-04,  0.00000000e+00,  3.85307511e-05,\n",
              "         1.88195068e-04,  0.00000000e+00,  9.90929253e-05,  0.00000000e+00,\n",
              "         1.22047940e-04, -1.37874278e-04, -1.25001600e-04,  0.00000000e+00,\n",
              "        -1.16976866e-04, -2.24572581e-04,  0.00000000e+00, -7.74747648e-05,\n",
              "         9.30945624e-05,  0.00000000e+00,  0.00000000e+00,  2.29896579e-04,\n",
              "         0.00000000e+00,  0.00000000e+00,  0.00000000e+00,  0.00000000e+00,\n",
              "         8.91688826e-05,  0.00000000e+00,  2.79631333e-04, -7.28487336e-05,\n",
              "         1.28739655e-04,  5.63443247e-05, -2.97655327e-06,  2.05173337e-04,\n",
              "        -1.58448920e-04,  0.00000000e+00,  1.98620099e-04,  0.00000000e+00,\n",
              "        -6.17653394e-04,  0.00000000e+00,  1.63193451e-04, -1.65938439e-04,\n",
              "        -1.06977760e-04,  0.00000000e+00, -9.59817377e-05, -3.55913058e-05,\n",
              "        -7.02687824e-05,  3.82377732e-05, -6.14568639e-05,  7.07955899e-05,\n",
              "         2.87633922e-04,  0.00000000e+00,  0.00000000e+00,  0.00000000e+00,\n",
              "        -3.31470851e-04, -2.49402511e-04,  1.31215624e-04, -2.07899003e-04]),\n",
              " 'db2': array([0.18110808, 0.18111311, 0.18111441]),\n",
              " 'f1': array([-5.08729501e-01,  1.21113262e+01,  5.09200293e+00,  3.49853218e+00,\n",
              "        -5.07534718e-01,  3.49353462e-01, -2.84118671e-01,  1.24831269e+00,\n",
              "         2.18577191e+00,  7.75978226e+00, -4.23237997e-01,  2.57070310e+00,\n",
              "         2.83883865e+00,  8.02310587e+00,  5.09407130e+00,  8.00033860e+00,\n",
              "         1.09559753e+01,  3.65417466e+00,  5.50334545e+00, -3.84098741e-01,\n",
              "         6.94630199e-01,  5.30070844e+00, -4.62653966e-01, -6.59450801e-01,\n",
              "         2.70865662e+00, -4.77595482e-01,  8.19609261e+00,  1.32227663e+01,\n",
              "         1.06227993e+01,  4.57844196e+00, -1.31772134e-01,  1.93559710e+00,\n",
              "         8.77397895e+00,  1.02568970e+01,  3.18741026e+00, -5.20095436e-01,\n",
              "         1.54079798e+00,  1.29069133e+01,  9.52630126e+00,  1.17066537e+01,\n",
              "         4.47151916e+00,  3.06663064e+00,  1.41710655e+01,  1.82626132e-02,\n",
              "         2.53211571e+01,  5.36633984e+00,  1.07789733e+01,  5.54102081e+00,\n",
              "         4.77779032e-01, -4.37567828e-01,  6.58246961e+00,  1.33468961e+01,\n",
              "         6.13136535e+00,  2.04355876e+00,  6.73588904e+00, -2.31532084e-01,\n",
              "         1.25840690e+01,  7.75554984e+00, -2.76393572e-01,  1.43291025e+00,\n",
              "         2.18792924e-01, -3.83298785e-01,  1.01685957e+01,  2.26413563e+00,\n",
              "         1.62829387e+01,  2.68700696e+00,  8.49555086e+00,  9.16521963e+00,\n",
              "        -3.57747891e-01, -3.97119736e-01,  2.48504366e+00,  3.69639203e+00,\n",
              "         4.42436933e+00, -3.36703211e-01,  4.64179916e+00, -3.31560736e-01,\n",
              "         4.42394639e-01,  1.12524751e+01, -3.64132990e-01,  8.77676935e+00,\n",
              "         1.26876672e+01,  2.68953715e+00,  3.83563940e+00,  6.35630414e+00,\n",
              "         2.93985823e+00,  8.50577573e+00,  6.26449588e+00,  6.64466533e+00,\n",
              "        -4.62402834e-01,  1.14509456e+01, -4.47000624e-01,  2.24120037e+00,\n",
              "         1.14614789e+01,  1.30586529e+00,  9.66759314e+00,  1.44929887e+00,\n",
              "         4.79507173e+00, -1.95076690e-01,  6.77874422e+00, -3.37065763e-01,\n",
              "         1.12474198e+01,  5.73949501e+00,  1.15517319e+00,  1.14261770e+01,\n",
              "         7.89236828e+00,  1.09272243e+01,  1.11872294e+01,  3.73800906e+00,\n",
              "         1.18350469e+01,  5.01270796e+00, -3.05920661e-01, -2.94612076e-01,\n",
              "         1.10351013e+01,  5.69857931e+00,  7.89084096e-01, -4.32361992e-01,\n",
              "         6.11425392e+00,  6.41344050e+00, -5.27525785e-01, -2.90841095e-01,\n",
              "        -4.36569721e-01,  8.24917100e+00,  6.38207527e+00, -3.93488595e-01,\n",
              "         1.96378894e+01, -4.55585485e-01, -3.85292581e-01,  1.28265316e+01,\n",
              "         7.65859807e+00,  9.58077347e+00, -5.13692011e-01, -1.57035954e-01,\n",
              "         4.20514279e+00,  2.28784811e+00,  8.02123963e+00,  6.68029206e+00,\n",
              "         4.36805046e+00,  8.72057348e+00,  2.32003067e-02,  3.03795440e-01,\n",
              "         5.54402995e+00,  1.82880387e+01,  4.16570007e-01,  3.63676674e+00,\n",
              "         6.35099218e+00,  1.90164277e+01, -2.87890831e-01,  5.10045371e+00,\n",
              "         2.16840858e+00, -3.78277072e-01,  3.91754621e+00, -5.99067919e-01,\n",
              "         3.51272520e+00,  8.67735827e+00,  8.39620900e+00, -4.42577432e-01,\n",
              "         8.28176889e+00,  1.05615942e+01, -3.99362496e-01,  7.28093858e+00,\n",
              "         4.34698815e+00, -1.16045659e-01, -4.52816608e-01,  1.14885298e+00,\n",
              "        -4.33178330e-01, -4.78981937e-01, -3.77059934e-01, -4.93792251e-01,\n",
              "         4.32305595e+00, -4.49259360e-01,  5.72411301e-01,  7.40378269e+00,\n",
              "         3.27297772e+00,  4.61684720e+00,  5.93727420e+00,  1.95349657e+00,\n",
              "         9.00667786e+00, -3.27878982e-01,  1.88875899e+00, -3.44626895e-01,\n",
              "         1.85512028e+01, -4.66279297e-01,  2.56848552e+00,  9.25755153e+00,\n",
              "         8.02125107e+00, -2.44358655e-01,  7.78410839e+00,  6.32282622e+00,\n",
              "         7.30630701e+00,  5.21769693e+00,  7.32026192e+00,  4.64839861e+00,\n",
              "         2.52708805e-01, -2.32199712e-01, -4.46963153e-01, -7.66131263e-02,\n",
              "         1.24739906e+01,  1.07938898e+01,  3.31982095e+00,  9.86597280e+00]),\n",
              " 'f2': array([-0.04857977, -0.04742268, -0.04712055]),\n",
              " 'g1': array([0.00000000e+00, 1.21113262e+01, 5.09200293e+00, 3.49853218e+00,\n",
              "        0.00000000e+00, 3.49353462e-01, 0.00000000e+00, 1.24831269e+00,\n",
              "        2.18577191e+00, 7.75978226e+00, 0.00000000e+00, 2.57070310e+00,\n",
              "        2.83883865e+00, 8.02310587e+00, 5.09407130e+00, 8.00033860e+00,\n",
              "        1.09559753e+01, 3.65417466e+00, 5.50334545e+00, 0.00000000e+00,\n",
              "        6.94630199e-01, 5.30070844e+00, 0.00000000e+00, 0.00000000e+00,\n",
              "        2.70865662e+00, 0.00000000e+00, 8.19609261e+00, 1.32227663e+01,\n",
              "        1.06227993e+01, 4.57844196e+00, 0.00000000e+00, 1.93559710e+00,\n",
              "        8.77397895e+00, 1.02568970e+01, 3.18741026e+00, 0.00000000e+00,\n",
              "        1.54079798e+00, 1.29069133e+01, 9.52630126e+00, 1.17066537e+01,\n",
              "        4.47151916e+00, 3.06663064e+00, 1.41710655e+01, 1.82626132e-02,\n",
              "        2.53211571e+01, 5.36633984e+00, 1.07789733e+01, 5.54102081e+00,\n",
              "        4.77779032e-01, 0.00000000e+00, 6.58246961e+00, 1.33468961e+01,\n",
              "        6.13136535e+00, 2.04355876e+00, 6.73588904e+00, 0.00000000e+00,\n",
              "        1.25840690e+01, 7.75554984e+00, 0.00000000e+00, 1.43291025e+00,\n",
              "        2.18792924e-01, 0.00000000e+00, 1.01685957e+01, 2.26413563e+00,\n",
              "        1.62829387e+01, 2.68700696e+00, 8.49555086e+00, 9.16521963e+00,\n",
              "        0.00000000e+00, 0.00000000e+00, 2.48504366e+00, 3.69639203e+00,\n",
              "        4.42436933e+00, 0.00000000e+00, 4.64179916e+00, 0.00000000e+00,\n",
              "        4.42394639e-01, 1.12524751e+01, 0.00000000e+00, 8.77676935e+00,\n",
              "        1.26876672e+01, 2.68953715e+00, 3.83563940e+00, 6.35630414e+00,\n",
              "        2.93985823e+00, 8.50577573e+00, 6.26449588e+00, 6.64466533e+00,\n",
              "        0.00000000e+00, 1.14509456e+01, 0.00000000e+00, 2.24120037e+00,\n",
              "        1.14614789e+01, 1.30586529e+00, 9.66759314e+00, 1.44929887e+00,\n",
              "        4.79507173e+00, 0.00000000e+00, 6.77874422e+00, 0.00000000e+00,\n",
              "        1.12474198e+01, 5.73949501e+00, 1.15517319e+00, 1.14261770e+01,\n",
              "        7.89236828e+00, 1.09272243e+01, 1.11872294e+01, 3.73800906e+00,\n",
              "        1.18350469e+01, 5.01270796e+00, 0.00000000e+00, 0.00000000e+00,\n",
              "        1.10351013e+01, 5.69857931e+00, 7.89084096e-01, 0.00000000e+00,\n",
              "        6.11425392e+00, 6.41344050e+00, 0.00000000e+00, 0.00000000e+00,\n",
              "        0.00000000e+00, 8.24917100e+00, 6.38207527e+00, 0.00000000e+00,\n",
              "        1.96378894e+01, 0.00000000e+00, 0.00000000e+00, 1.28265316e+01,\n",
              "        7.65859807e+00, 9.58077347e+00, 0.00000000e+00, 0.00000000e+00,\n",
              "        4.20514279e+00, 2.28784811e+00, 8.02123963e+00, 6.68029206e+00,\n",
              "        4.36805046e+00, 8.72057348e+00, 2.32003067e-02, 3.03795440e-01,\n",
              "        5.54402995e+00, 1.82880387e+01, 4.16570007e-01, 3.63676674e+00,\n",
              "        6.35099218e+00, 1.90164277e+01, 0.00000000e+00, 5.10045371e+00,\n",
              "        2.16840858e+00, 0.00000000e+00, 3.91754621e+00, 0.00000000e+00,\n",
              "        3.51272520e+00, 8.67735827e+00, 8.39620900e+00, 0.00000000e+00,\n",
              "        8.28176889e+00, 1.05615942e+01, 0.00000000e+00, 7.28093858e+00,\n",
              "        4.34698815e+00, 0.00000000e+00, 0.00000000e+00, 1.14885298e+00,\n",
              "        0.00000000e+00, 0.00000000e+00, 0.00000000e+00, 0.00000000e+00,\n",
              "        4.32305595e+00, 0.00000000e+00, 5.72411301e-01, 7.40378269e+00,\n",
              "        3.27297772e+00, 4.61684720e+00, 5.93727420e+00, 1.95349657e+00,\n",
              "        9.00667786e+00, 0.00000000e+00, 1.88875899e+00, 0.00000000e+00,\n",
              "        1.85512028e+01, 0.00000000e+00, 2.56848552e+00, 9.25755153e+00,\n",
              "        8.02125107e+00, 0.00000000e+00, 7.78410839e+00, 6.32282622e+00,\n",
              "        7.30630701e+00, 5.21769693e+00, 7.32026192e+00, 4.64839861e+00,\n",
              "        2.52708805e-01, 0.00000000e+00, 0.00000000e+00, 0.00000000e+00,\n",
              "        1.24739906e+01, 1.07938898e+01, 3.31982095e+00, 9.86597280e+00]),\n",
              " 'g2': array([0.48785745, 0.48814655, 0.48822204])}"
            ]
          },
          "metadata": {
            "tags": []
          },
          "execution_count": 74
        }
      ]
    },
    {
      "cell_type": "code",
      "metadata": {
        "id": "J-hlQuNkYNqI",
        "colab": {
          "base_uri": "https://localhost:8080/",
          "height": 573
        },
        "outputId": "7ebfd3b9-48f9-45b7-e38c-55a61bfabd50"
      },
      "source": [
        "import matplotlib.pyplot as plt\n",
        "plt.title('Accuracy Plot')\n",
        "plt.plot(np.arange(len(cache[\"acc_per_epoch\"]))+1, cache[\"acc_per_epoch\"])\n",
        "plt.xlabel('Epochs')\n",
        "plt.ylabel('Accuracy')\n",
        "plt.show()\n",
        "\n",
        "plt.title('Loss Plot')\n",
        "plt.plot(np.arange(len(cache[\"cost_per_epoch\"]))+1, cache[\"cost_per_epoch\"])\n",
        "plt.xlabel('Epochs')\n",
        "plt.ylabel('Loss')\n",
        "plt.show()"
      ],
      "execution_count": 75,
      "outputs": [
        {
          "output_type": "display_data",
          "data": {
            "image/png": "[encoded data removed]",
            "text/plain": [
              "<Figure size 432x288 with 1 Axes>"
            ]
          },
          "metadata": {
            "tags": [],
            "needs_background": "light"
          }
        },
        {
          "output_type": "display_data",
          "data": {
            "image/png": "[encoded data removed]",
            "text/plain": [
              "<Figure size 432x288 with 1 Axes>"
            ]
          },
          "metadata": {
            "tags": [],
            "needs_background": "light"
          }
        }
      ]
    },
    {
      "cell_type": "code",
      "metadata": {
        "id": "a-kHue_93M7t"
      },
      "source": [
        "def predict(cache, X_test):\n",
        "  '''\n",
        "  function to calculate prediction for testing\n",
        "\n",
        "  Parameters:\n",
        "    cache (dict) : dictionary of parameters,\n",
        "    X_test (list) : list of test set\n",
        "\n",
        "  Returns:\n",
        "    list of prediction\n",
        "  '''\n",
        "  prediction = []\n",
        "  for X in X_test:\n",
        "    y = forward_propagation(cache, X, predict=True)\n",
        "    y_pred = one_hot_encoding(y)\n",
        "    prediction.append(y_pred)\n",
        "  return np.array(prediction)"
      ],
      "execution_count": 76,
      "outputs": []
    },
    {
      "cell_type": "code",
      "metadata": {
        "id": "UvayMzVsIgzv"
      },
      "source": [
        "prediction = predict(cache, X_test)"
      ],
      "execution_count": 77,
      "outputs": []
    },
    {
      "cell_type": "code",
      "metadata": {
        "id": "TDvUKX0aJ9p2",
        "colab": {
          "base_uri": "https://localhost:8080/"
        },
        "outputId": "a944ac3f-0275-494c-d9ce-37be5de6bb56"
      },
      "source": [
        "count = []\n",
        "for y in range(len(prediction)):\n",
        "  count.append((prediction[y] == y_test[y]).all())\n",
        "  # count.append(accuracy(prediction[y], y_test[y]))\n",
        "\n",
        "np.mean(count)"
      ],
      "execution_count": 78,
      "outputs": [
        {
          "output_type": "execute_result",
          "data": {
            "text/plain": [
              "0.36666666666666664"
            ]
          },
          "metadata": {
            "tags": []
          },
          "execution_count": 78
        }
      ]
    },
    {
      "cell_type": "code",
      "metadata": {
        "id": "n7ifAX0R-CPe",
        "colab": {
          "base_uri": "https://localhost:8080/"
        },
        "outputId": "cda179e2-88d0-40fd-d8ae-b4aab8d9dd72"
      },
      "source": [
        "prediction"
      ],
      "execution_count": 79,
      "outputs": [
        {
          "output_type": "execute_result",
          "data": {
            "text/plain": [
              "array([[1., 0., 0.],\n",
              "       [1., 0., 0.],\n",
              "       [1., 0., 0.],\n",
              "       [0., 1., 0.],\n",
              "       [0., 1., 0.],\n",
              "       [0., 0., 1.],\n",
              "       [0., 1., 0.],\n",
              "       [0., 1., 0.],\n",
              "       [0., 0., 1.],\n",
              "       [1., 0., 0.],\n",
              "       [0., 1., 0.],\n",
              "       [1., 0., 0.],\n",
              "       [1., 0., 0.],\n",
              "       [1., 0., 0.],\n",
              "       [1., 0., 0.],\n",
              "       [0., 1., 0.],\n",
              "       [1., 0., 0.],\n",
              "       [0., 1., 0.],\n",
              "       [1., 0., 0.],\n",
              "       [1., 0., 0.],\n",
              "       [0., 0., 1.],\n",
              "       [1., 0., 0.],\n",
              "       [1., 0., 0.],\n",
              "       [0., 0., 1.],\n",
              "       [0., 0., 1.],\n",
              "       [0., 1., 0.],\n",
              "       [0., 0., 1.],\n",
              "       [1., 0., 0.],\n",
              "       [0., 1., 0.],\n",
              "       [1., 0., 0.],\n",
              "       [1., 0., 0.],\n",
              "       [1., 0., 0.],\n",
              "       [0., 0., 1.],\n",
              "       [1., 0., 0.],\n",
              "       [0., 1., 0.],\n",
              "       [0., 1., 0.],\n",
              "       [1., 0., 0.],\n",
              "       [1., 0., 0.],\n",
              "       [0., 0., 1.],\n",
              "       [0., 0., 1.],\n",
              "       [0., 0., 1.],\n",
              "       [1., 0., 0.],\n",
              "       [0., 1., 0.],\n",
              "       [1., 0., 0.],\n",
              "       [0., 0., 1.],\n",
              "       [0., 1., 0.],\n",
              "       [1., 0., 0.],\n",
              "       [0., 0., 1.],\n",
              "       [0., 0., 1.],\n",
              "       [1., 0., 0.],\n",
              "       [1., 0., 0.],\n",
              "       [1., 0., 0.],\n",
              "       [1., 0., 0.],\n",
              "       [0., 0., 1.],\n",
              "       [1., 0., 0.],\n",
              "       [0., 0., 1.],\n",
              "       [1., 0., 0.],\n",
              "       [1., 0., 0.],\n",
              "       [0., 1., 0.],\n",
              "       [0., 1., 0.]])"
            ]
          },
          "metadata": {
            "tags": []
          },
          "execution_count": 79
        }
      ]
    },
    {
      "cell_type": "code",
      "metadata": {
        "colab": {
          "base_uri": "https://localhost:8080/"
        },
        "id": "QPicekWQfIhK",
        "outputId": "0d775119-5d85-4d2d-a227-4ea6f2440624"
      },
      "source": [
        "cache = train(X_train.shape[1], 200, 3, X_train, y_train, learning_rate=0.1, epochs=50)"
      ],
      "execution_count": 80,
      "outputs": [
        {
          "output_type": "stream",
          "text": [
            "Running epoch 1\n",
            "Running epoch 2\n",
            "Running epoch 3\n",
            "Running epoch 4\n",
            "Running epoch 5\n",
            "Running epoch 6\n",
            "Running epoch 7\n",
            "Running epoch 8\n",
            "Running epoch 9\n",
            "Running epoch 10\n",
            "Running epoch 11\n",
            "Running epoch 12\n",
            "Running epoch 13\n",
            "Running epoch 14\n",
            "Running epoch 15\n",
            "Running epoch 16\n",
            "Running epoch 17\n",
            "Running epoch 18\n",
            "Running epoch 19\n",
            "Running epoch 20\n",
            "Running epoch 21\n",
            "Running epoch 22\n",
            "Running epoch 23\n",
            "Running epoch 24\n",
            "Running epoch 25\n",
            "Running epoch 26\n",
            "Running epoch 27\n",
            "Running epoch 28\n",
            "Running epoch 29\n",
            "Running epoch 30\n",
            "Running epoch 31\n",
            "Running epoch 32\n",
            "Running epoch 33\n",
            "Running epoch 34\n",
            "Running epoch 35\n",
            "Running epoch 36\n",
            "Running epoch 37\n",
            "Running epoch 38\n",
            "Running epoch 39\n",
            "Running epoch 40\n",
            "Running epoch 41\n",
            "Running epoch 42\n",
            "Running epoch 43\n",
            "Running epoch 44\n",
            "Running epoch 45\n",
            "Running epoch 46\n",
            "Running epoch 47\n",
            "Running epoch 48\n",
            "Running epoch 49\n",
            "Running epoch 50\n"
          ],
          "name": "stdout"
        }
      ]
    },
    {
      "cell_type": "code",
      "metadata": {
        "colab": {
          "base_uri": "https://localhost:8080/",
          "height": 573
        },
        "id": "UM7A3MEVfLWT",
        "outputId": "a74e4762-8845-4a20-aa7e-4fac071ed774"
      },
      "source": [
        "import matplotlib.pyplot as plt\n",
        "plt.title('Accuracy Plot')\n",
        "plt.plot(np.arange(len(cache[\"acc_per_epoch\"]))+1, cache[\"acc_per_epoch\"])\n",
        "plt.xlabel('Epochs')\n",
        "plt.ylabel('Accuracy')\n",
        "plt.show()\n",
        "\n",
        "plt.title('Loss Plot')\n",
        "plt.plot(np.arange(len(cache[\"cost_per_epoch\"]))+1, cache[\"cost_per_epoch\"])\n",
        "plt.xlabel('Epochs')\n",
        "plt.ylabel('Loss')\n",
        "plt.show()"
      ],
      "execution_count": 81,
      "outputs": [
        {
          "output_type": "display_data",
          "data": {
            "image/png": "[encoded data removed]",
            "text/plain": [
              "<Figure size 432x288 with 1 Axes>"
            ]
          },
          "metadata": {
            "tags": [],
            "needs_background": "light"
          }
        },
        {
          "output_type": "display_data",
          "data": {
            "image/png": "[encoded data removed]",
            "text/plain": [
              "<Figure size 432x288 with 1 Axes>"
            ]
          },
          "metadata": {
            "tags": [],
            "needs_background": "light"
          }
        }
      ]
    },
    {
      "cell_type": "code",
      "metadata": {
        "colab": {
          "base_uri": "https://localhost:8080/"
        },
        "id": "LypvKc96mGSU",
        "outputId": "0bb13bb6-ab31-41f0-8270-002de39aa034"
      },
      "source": [
        "prediction = predict(cache, X_test)\n",
        "\n",
        "count = []\n",
        "for y in range(len(prediction)):\n",
        "  count.append((prediction[y] == y_test[y]).all())\n",
        "  # count.append(accuracy(prediction[y], y_test[y]))\n",
        "\n",
        "np.mean(count)"
      ],
      "execution_count": 82,
      "outputs": [
        {
          "output_type": "execute_result",
          "data": {
            "text/plain": [
              "0.26666666666666666"
            ]
          },
          "metadata": {
            "tags": []
          },
          "execution_count": 82
        }
      ]
    },
    {
      "cell_type": "code",
      "metadata": {
        "colab": {
          "base_uri": "https://localhost:8080/"
        },
        "id": "o_klrNCymTUj",
        "outputId": "c5c214f3-429f-4830-b1e0-45b877694d2f"
      },
      "source": [
        "prediction"
      ],
      "execution_count": 83,
      "outputs": [
        {
          "output_type": "execute_result",
          "data": {
            "text/plain": [
              "array([[0., 0., 1.],\n",
              "       [1., 0., 0.],\n",
              "       [0., 0., 1.],\n",
              "       [1., 0., 0.],\n",
              "       [1., 0., 0.],\n",
              "       [1., 0., 0.],\n",
              "       [1., 0., 0.],\n",
              "       [1., 0., 0.],\n",
              "       [1., 0., 0.],\n",
              "       [0., 0., 1.],\n",
              "       [1., 0., 0.],\n",
              "       [1., 0., 0.],\n",
              "       [1., 0., 0.],\n",
              "       [0., 0., 1.],\n",
              "       [0., 0., 1.],\n",
              "       [1., 0., 0.],\n",
              "       [0., 0., 1.],\n",
              "       [1., 0., 0.],\n",
              "       [1., 0., 0.],\n",
              "       [1., 0., 0.],\n",
              "       [1., 0., 0.],\n",
              "       [0., 0., 1.],\n",
              "       [0., 0., 1.],\n",
              "       [0., 0., 1.],\n",
              "       [1., 0., 0.],\n",
              "       [0., 0., 1.],\n",
              "       [1., 0., 0.],\n",
              "       [0., 0., 1.],\n",
              "       [1., 0., 0.],\n",
              "       [0., 0., 1.],\n",
              "       [0., 0., 1.],\n",
              "       [1., 0., 0.],\n",
              "       [0., 0., 1.],\n",
              "       [0., 0., 1.],\n",
              "       [1., 0., 0.],\n",
              "       [0., 0., 1.],\n",
              "       [0., 0., 1.],\n",
              "       [0., 0., 1.],\n",
              "       [1., 0., 0.],\n",
              "       [1., 0., 0.],\n",
              "       [1., 0., 0.],\n",
              "       [0., 0., 1.],\n",
              "       [0., 0., 1.],\n",
              "       [0., 0., 1.],\n",
              "       [1., 0., 0.],\n",
              "       [1., 0., 0.],\n",
              "       [1., 0., 0.],\n",
              "       [1., 0., 0.],\n",
              "       [1., 0., 0.],\n",
              "       [1., 0., 0.],\n",
              "       [1., 0., 0.],\n",
              "       [0., 0., 1.],\n",
              "       [0., 0., 1.],\n",
              "       [1., 0., 0.],\n",
              "       [0., 0., 1.],\n",
              "       [1., 0., 0.],\n",
              "       [0., 0., 1.],\n",
              "       [0., 0., 1.],\n",
              "       [1., 0., 0.],\n",
              "       [1., 0., 0.]])"
            ]
          },
          "metadata": {
            "tags": []
          },
          "execution_count": 83
        }
      ]
    },
    {
      "cell_type": "code",
      "metadata": {
        "colab": {
          "base_uri": "https://localhost:8080/"
        },
        "id": "02WMGL96S9Dk",
        "outputId": "9ddb1fb0-57ff-45fc-cbe8-e3bc5a19efb5"
      },
      "source": [
        "cache = train(X_train.shape[1], 200, 3, X_train, y_train, learning_rate=0.8, epochs=50)"
      ],
      "execution_count": 84,
      "outputs": [
        {
          "output_type": "stream",
          "text": [
            "Running epoch 1\n",
            "Running epoch 2\n",
            "Running epoch 3\n",
            "Running epoch 4\n",
            "Running epoch 5\n",
            "Running epoch 6\n",
            "Running epoch 7\n",
            "Running epoch 8\n",
            "Running epoch 9\n",
            "Running epoch 10\n",
            "Running epoch 11\n",
            "Running epoch 12\n",
            "Running epoch 13\n",
            "Running epoch 14\n",
            "Running epoch 15\n",
            "Running epoch 16\n",
            "Running epoch 17\n",
            "Running epoch 18\n",
            "Running epoch 19\n",
            "Running epoch 20\n",
            "Running epoch 21\n",
            "Running epoch 22\n",
            "Running epoch 23\n",
            "Running epoch 24\n",
            "Running epoch 25\n",
            "Running epoch 26\n",
            "Running epoch 27\n",
            "Running epoch 28\n",
            "Running epoch 29\n",
            "Running epoch 30\n",
            "Running epoch 31\n",
            "Running epoch 32\n",
            "Running epoch 33\n",
            "Running epoch 34\n",
            "Running epoch 35\n",
            "Running epoch 36\n",
            "Running epoch 37\n",
            "Running epoch 38\n",
            "Running epoch 39\n",
            "Running epoch 40\n",
            "Running epoch 41\n",
            "Running epoch 42\n",
            "Running epoch 43\n",
            "Running epoch 44\n",
            "Running epoch 45\n",
            "Running epoch 46\n",
            "Running epoch 47\n",
            "Running epoch 48\n",
            "Running epoch 49\n",
            "Running epoch 50\n"
          ],
          "name": "stdout"
        }
      ]
    },
    {
      "cell_type": "code",
      "metadata": {
        "id": "PP-qawbxToao",
        "colab": {
          "base_uri": "https://localhost:8080/",
          "height": 573
        },
        "outputId": "00276ae1-3ddb-4d43-a747-eb5bff9157ea"
      },
      "source": [
        "import matplotlib.pyplot as plt\n",
        "plt.title('Accuracy Plot')\n",
        "plt.plot(np.arange(len(cache[\"acc_per_epoch\"]))+1, cache[\"acc_per_epoch\"])\n",
        "plt.xlabel('Epochs')\n",
        "plt.ylabel('Accuracy')\n",
        "plt.show()\n",
        "\n",
        "plt.title('Loss Plot')\n",
        "plt.plot(np.arange(len(cache[\"cost_per_epoch\"]))+1, cache[\"cost_per_epoch\"])\n",
        "plt.xlabel('Epochs')\n",
        "plt.ylabel('Loss')\n",
        "plt.show()"
      ],
      "execution_count": 85,
      "outputs": [
        {
          "output_type": "display_data",
          "data": {
            "image/png": "[encoded data removed]",
            "text/plain": [
              "<Figure size 432x288 with 1 Axes>"
            ]
          },
          "metadata": {
            "tags": [],
            "needs_background": "light"
          }
        },
        {
          "output_type": "display_data",
          "data": {
            "image/png": "[encoded data removed]",
            "text/plain": [
              "<Figure size 432x288 with 1 Axes>"
            ]
          },
          "metadata": {
            "tags": [],
            "needs_background": "light"
          }
        }
      ]
    },
    {
      "cell_type": "code",
      "metadata": {
        "colab": {
          "base_uri": "https://localhost:8080/"
        },
        "id": "Fc9_Jlp2eW-i",
        "outputId": "e2b2ee90-6765-4263-b8ec-1ab1d63a16d8"
      },
      "source": [
        "prediction = predict(cache, X_test)\n",
        "\n",
        "count = []\n",
        "for y in range(len(prediction)):\n",
        "  count.append((prediction[y] == y_test[y]).all())\n",
        "  # count.append(accuracy(prediction[y], y_test[y]))\n",
        "\n",
        "np.mean(count)"
      ],
      "execution_count": 87,
      "outputs": [
        {
          "output_type": "execute_result",
          "data": {
            "text/plain": [
              "0.3333333333333333"
            ]
          },
          "metadata": {
            "tags": []
          },
          "execution_count": 87
        }
      ]
    }
  ]
}